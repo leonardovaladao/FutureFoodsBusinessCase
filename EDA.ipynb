{
 "cells": [
  {
   "cell_type": "markdown",
   "id": "52b4bf41",
   "metadata": {},
   "source": [
    "## Import Libraries"
   ]
  },
  {
   "cell_type": "code",
   "execution_count": 110,
   "id": "fed57213",
   "metadata": {},
   "outputs": [],
   "source": [
    "import numpy as np\n",
    "import pandas as pd\n",
    "import matplotlib.pyplot as plt\n",
    "import seaborn as sns"
   ]
  },
  {
   "cell_type": "markdown",
   "id": "da2abf00",
   "metadata": {},
   "source": [
    "## Load data"
   ]
  },
  {
   "cell_type": "markdown",
   "id": "3de8f9ea",
   "metadata": {},
   "source": [
    "**Date**: Date that the order occured.\\\n",
    "**Hour**: Hour that the order occured.\\\n",
    "**Name**: Name of the product ordered.\\\n",
    "**Requested_Orders**: How many orders had that product in that date and hour.\\\n",
    "**Accepted_Orders**: How many orders that were accepted had that item.\\\n",
    "**Completed_Orders_Ofo_State**: How many orders with that item were completed.\\\n",
    "**First_Time_Orders**: How many of these items were the first order of the buyer.\\\n",
    "**First_Time_Orders_Promo**: Same as above, but count if it has a promo in the order. Note that the number in the previous column contemplates orders with **or** without promo.\\\n",
    "**Returning_Orders**: Orders returned.\\\n",
    "**Returning_Orders_Promo**: Orders returned which had a promo.\\\n",
    "**Order_Issues**: Orders that had an issue.\\\n",
    "**Avg_Prep_Time**: Average prep time in seconds.\\\n",
    "**Avg_Rating**: Avg rating given in the order.\\\n",
    "**Total_Eater_Spend**: Total time buyer spent eating.\\\n",
    "**Total_Eater_Spend_1**: ???"
   ]
  },
  {
   "cell_type": "code",
   "execution_count": 2,
   "id": "08c2a4cd",
   "metadata": {},
   "outputs": [
    {
     "data": {
      "text/html": [
       "<div>\n",
       "<style scoped>\n",
       "    .dataframe tbody tr th:only-of-type {\n",
       "        vertical-align: middle;\n",
       "    }\n",
       "\n",
       "    .dataframe tbody tr th {\n",
       "        vertical-align: top;\n",
       "    }\n",
       "\n",
       "    .dataframe thead th {\n",
       "        text-align: right;\n",
       "    }\n",
       "</style>\n",
       "<table border=\"1\" class=\"dataframe\">\n",
       "  <thead>\n",
       "    <tr style=\"text-align: right;\">\n",
       "      <th></th>\n",
       "      <th>date</th>\n",
       "      <th>hour</th>\n",
       "      <th>name</th>\n",
       "      <th>requested_orders</th>\n",
       "      <th>accepted_orders</th>\n",
       "      <th>completed_orders_ofo_state</th>\n",
       "      <th>first_time_orders</th>\n",
       "      <th>first_time_orders_promo</th>\n",
       "      <th>returning_orders</th>\n",
       "      <th>returning_orders_promo</th>\n",
       "      <th>order_issues</th>\n",
       "      <th>avg_prep_time</th>\n",
       "      <th>avg_rating</th>\n",
       "      <th>total_eater_spend</th>\n",
       "      <th>total_eater_spend__1</th>\n",
       "    </tr>\n",
       "  </thead>\n",
       "  <tbody>\n",
       "    <tr>\n",
       "      <th>0</th>\n",
       "      <td>2022-02-17</td>\n",
       "      <td>15</td>\n",
       "      <td>Tater Tots</td>\n",
       "      <td>1</td>\n",
       "      <td>1</td>\n",
       "      <td>1</td>\n",
       "      <td>0</td>\n",
       "      <td>0</td>\n",
       "      <td>1</td>\n",
       "      <td>0</td>\n",
       "      <td>NaN</td>\n",
       "      <td>NaN</td>\n",
       "      <td>NaN</td>\n",
       "      <td>23.25</td>\n",
       "      <td>0.00</td>\n",
       "    </tr>\n",
       "    <tr>\n",
       "      <th>1</th>\n",
       "      <td>2022-02-21</td>\n",
       "      <td>19</td>\n",
       "      <td>2 Protein Poke Bowl</td>\n",
       "      <td>3</td>\n",
       "      <td>3</td>\n",
       "      <td>3</td>\n",
       "      <td>2</td>\n",
       "      <td>2</td>\n",
       "      <td>1</td>\n",
       "      <td>0</td>\n",
       "      <td>NaN</td>\n",
       "      <td>NaN</td>\n",
       "      <td>NaN</td>\n",
       "      <td>130.00</td>\n",
       "      <td>-43.50</td>\n",
       "    </tr>\n",
       "    <tr>\n",
       "      <th>2</th>\n",
       "      <td>2022-02-24</td>\n",
       "      <td>11</td>\n",
       "      <td>Bacon Breakfast Burrito</td>\n",
       "      <td>12</td>\n",
       "      <td>12</td>\n",
       "      <td>12</td>\n",
       "      <td>7</td>\n",
       "      <td>2</td>\n",
       "      <td>5</td>\n",
       "      <td>4</td>\n",
       "      <td>NaN</td>\n",
       "      <td>4585.833333</td>\n",
       "      <td>4.0</td>\n",
       "      <td>1496.60</td>\n",
       "      <td>-111.00</td>\n",
       "    </tr>\n",
       "    <tr>\n",
       "      <th>3</th>\n",
       "      <td>2022-02-16</td>\n",
       "      <td>9</td>\n",
       "      <td>Bagel with Lox</td>\n",
       "      <td>7</td>\n",
       "      <td>7</td>\n",
       "      <td>7</td>\n",
       "      <td>6</td>\n",
       "      <td>5</td>\n",
       "      <td>1</td>\n",
       "      <td>1</td>\n",
       "      <td>1.0</td>\n",
       "      <td>51.000000</td>\n",
       "      <td>NaN</td>\n",
       "      <td>219.50</td>\n",
       "      <td>-47.22</td>\n",
       "    </tr>\n",
       "    <tr>\n",
       "      <th>4</th>\n",
       "      <td>2022-02-18</td>\n",
       "      <td>19</td>\n",
       "      <td>Spicy Fried Rice</td>\n",
       "      <td>1</td>\n",
       "      <td>1</td>\n",
       "      <td>1</td>\n",
       "      <td>1</td>\n",
       "      <td>1</td>\n",
       "      <td>0</td>\n",
       "      <td>0</td>\n",
       "      <td>NaN</td>\n",
       "      <td>667.000000</td>\n",
       "      <td>NaN</td>\n",
       "      <td>23.99</td>\n",
       "      <td>-5.00</td>\n",
       "    </tr>\n",
       "  </tbody>\n",
       "</table>\n",
       "</div>"
      ],
      "text/plain": [
       "         date  hour                     name  requested_orders  \\\n",
       "0  2022-02-17    15               Tater Tots                 1   \n",
       "1  2022-02-21    19      2 Protein Poke Bowl                 3   \n",
       "2  2022-02-24    11  Bacon Breakfast Burrito                12   \n",
       "3  2022-02-16     9           Bagel with Lox                 7   \n",
       "4  2022-02-18    19         Spicy Fried Rice                 1   \n",
       "\n",
       "   accepted_orders  completed_orders_ofo_state  first_time_orders  \\\n",
       "0                1                           1                  0   \n",
       "1                3                           3                  2   \n",
       "2               12                          12                  7   \n",
       "3                7                           7                  6   \n",
       "4                1                           1                  1   \n",
       "\n",
       "   first_time_orders_promo  returning_orders  returning_orders_promo  \\\n",
       "0                        0                 1                       0   \n",
       "1                        2                 1                       0   \n",
       "2                        2                 5                       4   \n",
       "3                        5                 1                       1   \n",
       "4                        1                 0                       0   \n",
       "\n",
       "   order_issues  avg_prep_time  avg_rating  total_eater_spend  \\\n",
       "0           NaN            NaN         NaN              23.25   \n",
       "1           NaN            NaN         NaN             130.00   \n",
       "2           NaN    4585.833333         4.0            1496.60   \n",
       "3           1.0      51.000000         NaN             219.50   \n",
       "4           NaN     667.000000         NaN              23.99   \n",
       "\n",
       "   total_eater_spend__1  \n",
       "0                  0.00  \n",
       "1                -43.50  \n",
       "2               -111.00  \n",
       "3                -47.22  \n",
       "4                 -5.00  "
      ]
     },
     "execution_count": 2,
     "metadata": {},
     "output_type": "execute_result"
    }
   ],
   "source": [
    "df = pd.read_csv(\"data/raw_data.csv\")\n",
    "df.head()"
   ]
  },
  {
   "cell_type": "code",
   "execution_count": 3,
   "id": "9e9f9114",
   "metadata": {},
   "outputs": [
    {
     "name": "stdout",
     "output_type": "stream",
     "text": [
      "<class 'pandas.core.frame.DataFrame'>\n",
      "RangeIndex: 100000 entries, 0 to 99999\n",
      "Data columns (total 15 columns):\n",
      " #   Column                      Non-Null Count   Dtype  \n",
      "---  ------                      --------------   -----  \n",
      " 0   date                        100000 non-null  object \n",
      " 1   hour                        100000 non-null  int64  \n",
      " 2   name                        100000 non-null  object \n",
      " 3   requested_orders            100000 non-null  int64  \n",
      " 4   accepted_orders             100000 non-null  int64  \n",
      " 5   completed_orders_ofo_state  100000 non-null  int64  \n",
      " 6   first_time_orders           100000 non-null  int64  \n",
      " 7   first_time_orders_promo     100000 non-null  int64  \n",
      " 8   returning_orders            100000 non-null  int64  \n",
      " 9   returning_orders_promo      100000 non-null  int64  \n",
      " 10  order_issues                7503 non-null    float64\n",
      " 11  avg_prep_time               32443 non-null   float64\n",
      " 12  avg_rating                  14779 non-null   float64\n",
      " 13  total_eater_spend           84190 non-null   float64\n",
      " 14  total_eater_spend__1        84190 non-null   float64\n",
      "dtypes: float64(5), int64(8), object(2)\n",
      "memory usage: 11.4+ MB\n"
     ]
    }
   ],
   "source": [
    "df.info()"
   ]
  },
  {
   "cell_type": "code",
   "execution_count": 4,
   "id": "87e85a39",
   "metadata": {},
   "outputs": [
    {
     "data": {
      "text/html": [
       "<div>\n",
       "<style scoped>\n",
       "    .dataframe tbody tr th:only-of-type {\n",
       "        vertical-align: middle;\n",
       "    }\n",
       "\n",
       "    .dataframe tbody tr th {\n",
       "        vertical-align: top;\n",
       "    }\n",
       "\n",
       "    .dataframe thead th {\n",
       "        text-align: right;\n",
       "    }\n",
       "</style>\n",
       "<table border=\"1\" class=\"dataframe\">\n",
       "  <thead>\n",
       "    <tr style=\"text-align: right;\">\n",
       "      <th></th>\n",
       "      <th>hour</th>\n",
       "      <th>requested_orders</th>\n",
       "      <th>accepted_orders</th>\n",
       "      <th>completed_orders_ofo_state</th>\n",
       "      <th>first_time_orders</th>\n",
       "      <th>first_time_orders_promo</th>\n",
       "      <th>returning_orders</th>\n",
       "      <th>returning_orders_promo</th>\n",
       "      <th>order_issues</th>\n",
       "      <th>avg_prep_time</th>\n",
       "      <th>avg_rating</th>\n",
       "      <th>total_eater_spend</th>\n",
       "      <th>total_eater_spend__1</th>\n",
       "    </tr>\n",
       "  </thead>\n",
       "  <tbody>\n",
       "    <tr>\n",
       "      <th>count</th>\n",
       "      <td>100000.000000</td>\n",
       "      <td>100000.00000</td>\n",
       "      <td>100000.000000</td>\n",
       "      <td>100000.000000</td>\n",
       "      <td>100000.000000</td>\n",
       "      <td>100000.000000</td>\n",
       "      <td>100000.000000</td>\n",
       "      <td>100000.000000</td>\n",
       "      <td>7503.000000</td>\n",
       "      <td>32443.000000</td>\n",
       "      <td>14779.000000</td>\n",
       "      <td>84190.000000</td>\n",
       "      <td>84190.000000</td>\n",
       "    </tr>\n",
       "    <tr>\n",
       "      <th>mean</th>\n",
       "      <td>14.331280</td>\n",
       "      <td>2.07785</td>\n",
       "      <td>2.057410</td>\n",
       "      <td>1.903980</td>\n",
       "      <td>1.220090</td>\n",
       "      <td>0.675030</td>\n",
       "      <td>0.474380</td>\n",
       "      <td>0.280450</td>\n",
       "      <td>1.195522</td>\n",
       "      <td>1886.162614</td>\n",
       "      <td>4.064915</td>\n",
       "      <td>136.727116</td>\n",
       "      <td>-22.466638</td>\n",
       "    </tr>\n",
       "    <tr>\n",
       "      <th>std</th>\n",
       "      <td>5.851801</td>\n",
       "      <td>3.31480</td>\n",
       "      <td>3.294022</td>\n",
       "      <td>3.149393</td>\n",
       "      <td>2.125567</td>\n",
       "      <td>1.336825</td>\n",
       "      <td>1.084544</td>\n",
       "      <td>0.704729</td>\n",
       "      <td>0.570324</td>\n",
       "      <td>5038.696393</td>\n",
       "      <td>1.401857</td>\n",
       "      <td>2197.552823</td>\n",
       "      <td>1005.546949</td>\n",
       "    </tr>\n",
       "    <tr>\n",
       "      <th>min</th>\n",
       "      <td>0.000000</td>\n",
       "      <td>1.00000</td>\n",
       "      <td>0.000000</td>\n",
       "      <td>0.000000</td>\n",
       "      <td>0.000000</td>\n",
       "      <td>0.000000</td>\n",
       "      <td>0.000000</td>\n",
       "      <td>0.000000</td>\n",
       "      <td>1.000000</td>\n",
       "      <td>1.000000</td>\n",
       "      <td>-1.000000</td>\n",
       "      <td>1.000000</td>\n",
       "      <td>-112150.000000</td>\n",
       "    </tr>\n",
       "    <tr>\n",
       "      <th>50%</th>\n",
       "      <td>15.000000</td>\n",
       "      <td>1.00000</td>\n",
       "      <td>1.000000</td>\n",
       "      <td>1.000000</td>\n",
       "      <td>1.000000</td>\n",
       "      <td>0.000000</td>\n",
       "      <td>0.000000</td>\n",
       "      <td>0.000000</td>\n",
       "      <td>1.000000</td>\n",
       "      <td>970.000000</td>\n",
       "      <td>5.000000</td>\n",
       "      <td>49.450000</td>\n",
       "      <td>-3.990000</td>\n",
       "    </tr>\n",
       "    <tr>\n",
       "      <th>max</th>\n",
       "      <td>23.000000</td>\n",
       "      <td>84.00000</td>\n",
       "      <td>84.000000</td>\n",
       "      <td>77.000000</td>\n",
       "      <td>56.000000</td>\n",
       "      <td>35.000000</td>\n",
       "      <td>27.000000</td>\n",
       "      <td>17.000000</td>\n",
       "      <td>11.000000</td>\n",
       "      <td>241259.000000</td>\n",
       "      <td>5.000000</td>\n",
       "      <td>249500.000000</td>\n",
       "      <td>0.000000</td>\n",
       "    </tr>\n",
       "  </tbody>\n",
       "</table>\n",
       "</div>"
      ],
      "text/plain": [
       "                hour  requested_orders  accepted_orders  \\\n",
       "count  100000.000000      100000.00000    100000.000000   \n",
       "mean       14.331280           2.07785         2.057410   \n",
       "std         5.851801           3.31480         3.294022   \n",
       "min         0.000000           1.00000         0.000000   \n",
       "50%        15.000000           1.00000         1.000000   \n",
       "max        23.000000          84.00000        84.000000   \n",
       "\n",
       "       completed_orders_ofo_state  first_time_orders  first_time_orders_promo  \\\n",
       "count               100000.000000      100000.000000            100000.000000   \n",
       "mean                     1.903980           1.220090                 0.675030   \n",
       "std                      3.149393           2.125567                 1.336825   \n",
       "min                      0.000000           0.000000                 0.000000   \n",
       "50%                      1.000000           1.000000                 0.000000   \n",
       "max                     77.000000          56.000000                35.000000   \n",
       "\n",
       "       returning_orders  returning_orders_promo  order_issues  avg_prep_time  \\\n",
       "count     100000.000000           100000.000000   7503.000000   32443.000000   \n",
       "mean           0.474380                0.280450      1.195522    1886.162614   \n",
       "std            1.084544                0.704729      0.570324    5038.696393   \n",
       "min            0.000000                0.000000      1.000000       1.000000   \n",
       "50%            0.000000                0.000000      1.000000     970.000000   \n",
       "max           27.000000               17.000000     11.000000  241259.000000   \n",
       "\n",
       "         avg_rating  total_eater_spend  total_eater_spend__1  \n",
       "count  14779.000000       84190.000000          84190.000000  \n",
       "mean       4.064915         136.727116            -22.466638  \n",
       "std        1.401857        2197.552823           1005.546949  \n",
       "min       -1.000000           1.000000        -112150.000000  \n",
       "50%        5.000000          49.450000             -3.990000  \n",
       "max        5.000000      249500.000000              0.000000  "
      ]
     },
     "execution_count": 4,
     "metadata": {},
     "output_type": "execute_result"
    }
   ],
   "source": [
    "df.describe(percentiles=[])"
   ]
  },
  {
   "cell_type": "markdown",
   "id": "4ffa000e",
   "metadata": {},
   "source": [
    "## Remove outliers"
   ]
  },
  {
   "cell_type": "code",
   "execution_count": 195,
   "id": "92975495",
   "metadata": {},
   "outputs": [
    {
     "data": {
      "text/plain": [
       "Index(['date', 'hour', 'name', 'requested_orders', 'accepted_orders',\n",
       "       'completed_orders_ofo_state', 'first_time_orders',\n",
       "       'first_time_orders_promo', 'returning_orders', 'returning_orders_promo',\n",
       "       'order_issues', 'avg_prep_time', 'avg_rating', 'total_eater_spend',\n",
       "       'total_eater_spend__1'],\n",
       "      dtype='object')"
      ]
     },
     "execution_count": 195,
     "metadata": {},
     "output_type": "execute_result"
    }
   ],
   "source": [
    "df.columns"
   ]
  },
  {
   "cell_type": "code",
   "execution_count": 199,
   "id": "31f1f4e1",
   "metadata": {},
   "outputs": [
    {
     "data": {
      "image/png": "[encoded data removed]",
      "text/plain": [
       "<Figure size 1008x720 with 12 Axes>"
      ]
     },
     "metadata": {
      "needs_background": "light"
     },
     "output_type": "display_data"
    }
   ],
   "source": [
    "cols = ['requested_orders', 'accepted_orders', 'completed_orders_ofo_state', 'first_time_orders',\n",
    "       'first_time_orders_promo', 'returning_orders', 'returning_orders_promo',\n",
    "       'order_issues', 'avg_prep_time', 'avg_rating', 'total_eater_spend']\n",
    "axises = [(0,0), (0,1), (0,2), (1,0), (1,1), (1,2), (2,0), (2,1), (2,2), (3,0), (3,1), (3,2)]\n",
    "\n",
    "fig, axs = plt.subplots(4, 3, figsize=(14,10))\n",
    "\n",
    "\n",
    "for col, ax in zip(cols, axises):\n",
    "    sns.boxplot(x=df[col], ax=axs[ax])"
   ]
  },
  {
   "cell_type": "code",
   "execution_count": 200,
   "id": "dde6c175",
   "metadata": {},
   "outputs": [
    {
     "name": "stdout",
     "output_type": "stream",
     "text": [
      "requested_orders Highest allowed 13\n",
      "accepted_orders Highest allowed 12\n",
      "completed_orders_ofo_state Highest allowed 12\n",
      "first_time_orders Highest allowed 8\n",
      "first_time_orders_promo Highest allowed 5\n",
      "returning_orders Highest allowed 4\n",
      "returning_orders_promo Highest allowed 3\n",
      "order_issues Highest allowed 3\n",
      "avg_prep_time Highest allowed 17003\n",
      "avg_rating Highest allowed 9\n",
      "total_eater_spend Highest allowed 6730\n"
     ]
    }
   ],
   "source": [
    "for col in cols:\n",
    "    print(col, \"Highest allowed\",int(df[col].mean() + 3*df[col].std())+1)"
   ]
  },
  {
   "cell_type": "code",
   "execution_count": 212,
   "id": "9418ea4d",
   "metadata": {},
   "outputs": [],
   "source": [
    "filtered_df = df[ ((df[\"requested_orders\"]<=13) | (df[\"requested_orders\"].isnull())) & \n",
    "   ((df[\"accepted_orders\"]<=12)  | (df[\"accepted_orders\"].isnull())) &\n",
    "    ((df[\"completed_orders_ofo_state\"]<=12)  | (df[\"completed_orders_ofo_state\"].isnull())) &\n",
    "   ((df[\"first_time_orders\"]<=8) | (df[\"first_time_orders\"].isnull())) &\n",
    "   ((df[\"first_time_orders_promo\"]<=5)  | (df[\"first_time_orders_promo\"].isnull())) &\n",
    "    ((df[\"returning_orders\"]<=4)  | (df[\"returning_orders\"].isnull())) &\n",
    "    ((df[\"returning_orders_promo\"]<=4)  | (df[\"returning_orders_promo\"].isnull())) &\n",
    "   ((df[\"order_issues\"]<=3) | (df[\"order_issues\"].isnull())) &\n",
    "   ((df[\"avg_prep_time\"]<=17000) | (df[\"avg_prep_time\"].isnull())) &\n",
    "   ((df[\"avg_rating\"]>0) | df[\"avg_rating\"].isnull()) &\n",
    "    ((df[\"total_eater_spend\"]<=6730) | df[\"total_eater_spend\"].isnull()) \n",
    "  ].reset_index()"
   ]
  },
  {
   "cell_type": "code",
   "execution_count": 209,
   "id": "d636c029",
   "metadata": {},
   "outputs": [
    {
     "data": {
      "text/plain": [
       "0.02601"
      ]
     },
     "execution_count": 209,
     "metadata": {},
     "output_type": "execute_result"
    }
   ],
   "source": [
    "(len(df)-len(filtered_df))/len(df)"
   ]
  },
  {
   "cell_type": "markdown",
   "id": "5c8a6848",
   "metadata": {},
   "source": [
    "2.6% of data were removed due to outliers."
   ]
  },
  {
   "cell_type": "markdown",
   "id": "fb15731b",
   "metadata": {},
   "source": [
    "## Explore products"
   ]
  },
  {
   "cell_type": "markdown",
   "id": "70f072a8",
   "metadata": {},
   "source": [
    "Goal: **To do some sort of data cleaning in the items strings to know which items are trending.**"
   ]
  },
  {
   "cell_type": "markdown",
   "id": "c7f499ba",
   "metadata": {},
   "source": [
    "How many unique items?"
   ]
  },
  {
   "cell_type": "code",
   "execution_count": 232,
   "id": "be0648f5",
   "metadata": {},
   "outputs": [
    {
     "data": {
      "text/plain": [
       "5196"
      ]
     },
     "execution_count": 232,
     "metadata": {},
     "output_type": "execute_result"
    }
   ],
   "source": [
    "len(filtered_df[\"name\"].unique())"
   ]
  },
  {
   "cell_type": "markdown",
   "id": "a7a71bc5",
   "metadata": {},
   "source": [
    "### Check if there's misspelled data"
   ]
  },
  {
   "cell_type": "markdown",
   "id": "f12f0f07",
   "metadata": {},
   "source": [
    "Check some names"
   ]
  },
  {
   "cell_type": "code",
   "execution_count": 253,
   "id": "d9632457",
   "metadata": {},
   "outputs": [
    {
     "data": {
      "text/plain": [
       "12709                  Garlic Naan\n",
       "85813                  Greek Salad\n",
       "88407    Awesome Almond Power Bowl\n",
       "21493    Carne Asada Wham! Burrito\n",
       "23398            Grilled Lamb Pita\n",
       "Name: name, dtype: object"
      ]
     },
     "execution_count": 253,
     "metadata": {},
     "output_type": "execute_result"
    }
   ],
   "source": [
    "df[\"name\"].sample(5)"
   ]
  },
  {
   "cell_type": "code",
   "execution_count": 269,
   "id": "92472f3c",
   "metadata": {},
   "outputs": [],
   "source": [
    "# Create sample of some names\n",
    "name_sample = list(filtered_df.sample(1000)[\"name\"])"
   ]
  },
  {
   "cell_type": "code",
   "execution_count": 270,
   "id": "708603c7",
   "metadata": {},
   "outputs": [],
   "source": [
    "# Define a function that checks if two strings are similar\n",
    "from difflib import SequenceMatcher\n",
    "\n",
    "def similar(a, b):\n",
    "    return SequenceMatcher(None, a, b).ratio()"
   ]
  },
  {
   "cell_type": "code",
   "execution_count": 272,
   "id": "92e6eedf",
   "metadata": {},
   "outputs": [
    {
     "data": {
      "text/plain": [
       "0.625"
      ]
     },
     "execution_count": 272,
     "metadata": {},
     "output_type": "execute_result"
    }
   ],
   "source": [
    "similar(\"Pizza\", \"Many Pizzas\")"
   ]
  },
  {
   "cell_type": "code",
   "execution_count": 271,
   "id": "92640911",
   "metadata": {},
   "outputs": [
    {
     "name": "stdout",
     "output_type": "stream",
     "text": [
      "0.23389431224979956\n"
     ]
    }
   ],
   "source": [
    "# Check if the sample have strings with similar names. \n",
    "# The final value is the average of the score defined by the function above.\n",
    "# If the score > 0.5, it means many strings have similar names.\n",
    "t = 0\n",
    "c = 0\n",
    "for name in name_sample:\n",
    "    for other_name in name_sample:\n",
    "        t+=similar(name, other_name)\n",
    "        c+=1\n",
    "print(t/c)"
   ]
  },
  {
   "cell_type": "markdown",
   "id": "9ee96295",
   "metadata": {},
   "source": [
    "It appears no data cleaning needs to be done concearning the string itselves."
   ]
  },
  {
   "cell_type": "code",
   "execution_count": 303,
   "id": "26fd39b4",
   "metadata": {},
   "outputs": [],
   "source": [
    "names_sum = filtered_df.groupby(by=\"name\").sum().drop(\"hour\", axis=1).drop(\"index\", axis=1)\n",
    "names_mean = filtered_df.groupby(by=\"name\").mean().drop(\"hour\", axis=1).drop(\"index\", axis=1)"
   ]
  },
  {
   "cell_type": "markdown",
   "id": "b70b6a40",
   "metadata": {},
   "source": [
    "**Which are the top 10 most ordered meals?**"
   ]
  },
  {
   "cell_type": "code",
   "execution_count": 328,
   "id": "04119d9f",
   "metadata": {},
   "outputs": [
    {
     "data": {
      "text/plain": [
       "name\n",
       "Coke (can)                   933\n",
       "Lemonade                     898\n",
       "Fries                        892\n",
       "Sprite                       891\n",
       "Tater Tots                   873\n",
       "Coke (bottle)                852\n",
       "Iced Tea                     850\n",
       "Fresh Cut Fries              815\n",
       "Mozzarella Sticks            807\n",
       "Bacon Cheese Fries           796\n",
       "Coke                         796\n",
       "Philadelphia Cheesesteak     781\n",
       "Build Your Own Acai Bowl     773\n",
       "Philly Cheesesteak           766\n",
       "Chips and Salsa              746\n",
       "Carne Asada Wham! Burrito    728\n",
       "Caesar Salad                 724\n",
       "Classic Cheesesteak          694\n",
       "Fettucine Alfredo            679\n",
       "Hash Browns                  671\n",
       "Name: requested_orders, dtype: int64"
      ]
     },
     "execution_count": 328,
     "metadata": {},
     "output_type": "execute_result"
    }
   ],
   "source": [
    "names_sum.sort_values(\"requested_orders\", ascending=False).head(20)[\"requested_orders\"]"
   ]
  },
  {
   "cell_type": "markdown",
   "id": "00b7cb63",
   "metadata": {},
   "source": [
    "**Which items are trending in the last week?**"
   ]
  },
  {
   "cell_type": "code",
   "execution_count": 347,
   "id": "340387e1",
   "metadata": {},
   "outputs": [
    {
     "data": {
      "text/html": [
       "<div>\n",
       "<style scoped>\n",
       "    .dataframe tbody tr th:only-of-type {\n",
       "        vertical-align: middle;\n",
       "    }\n",
       "\n",
       "    .dataframe tbody tr th {\n",
       "        vertical-align: top;\n",
       "    }\n",
       "\n",
       "    .dataframe thead th {\n",
       "        text-align: right;\n",
       "    }\n",
       "</style>\n",
       "<table border=\"1\" class=\"dataframe\">\n",
       "  <thead>\n",
       "    <tr style=\"text-align: right;\">\n",
       "      <th></th>\n",
       "      <th>requested_orders</th>\n",
       "    </tr>\n",
       "    <tr>\n",
       "      <th>name</th>\n",
       "      <th></th>\n",
       "    </tr>\n",
       "  </thead>\n",
       "  <tbody>\n",
       "    <tr>\n",
       "      <th>Home Fries</th>\n",
       "      <td>13</td>\n",
       "    </tr>\n",
       "    <tr>\n",
       "      <th>Sausage, Egg and Cheese Sandwich</th>\n",
       "      <td>13</td>\n",
       "    </tr>\n",
       "    <tr>\n",
       "      <th>Fries</th>\n",
       "      <td>12</td>\n",
       "    </tr>\n",
       "    <tr>\n",
       "      <th>Chicken Tikka Masala</th>\n",
       "      <td>12</td>\n",
       "    </tr>\n",
       "    <tr>\n",
       "      <th>Build Your Own Burrito</th>\n",
       "      <td>12</td>\n",
       "    </tr>\n",
       "    <tr>\n",
       "      <th>Side of Fruit</th>\n",
       "      <td>12</td>\n",
       "    </tr>\n",
       "    <tr>\n",
       "      <th>Garlic Naan</th>\n",
       "      <td>12</td>\n",
       "    </tr>\n",
       "    <tr>\n",
       "      <th>Lemonade</th>\n",
       "      <td>12</td>\n",
       "    </tr>\n",
       "    <tr>\n",
       "      <th>Coney Island Calzone</th>\n",
       "      <td>12</td>\n",
       "    </tr>\n",
       "    <tr>\n",
       "      <th>Lemonade</th>\n",
       "      <td>12</td>\n",
       "    </tr>\n",
       "  </tbody>\n",
       "</table>\n",
       "</div>"
      ],
      "text/plain": [
       "                                  requested_orders\n",
       "name                                              \n",
       "Home Fries                                      13\n",
       "Sausage, Egg and Cheese Sandwich                13\n",
       "Fries                                           12\n",
       "Chicken Tikka Masala                            12\n",
       "Build Your Own Burrito                          12\n",
       "Side of Fruit                                   12\n",
       "Garlic Naan                                     12\n",
       "Lemonade                                        12\n",
       "Coney Island Calzone                            12\n",
       "Lemonade                                        12"
      ]
     },
     "execution_count": 347,
     "metadata": {},
     "output_type": "execute_result"
    }
   ],
   "source": [
    "from datetime import timedelta\n",
    "last_week = filtered_df[\"date\"].max()-timedelta(days=7)\n",
    "filtered_df[filtered_df[\"date\"]>=last_week].sort_values(\n",
    "    \"requested_orders\", ascending=False\n",
    "    ).head(10)[[\"name\", \"requested_orders\"]].set_index(\"name\")"
   ]
  },
  {
   "cell_type": "markdown",
   "id": "63836fe2",
   "metadata": {},
   "source": [
    "## Check similar items"
   ]
  },
  {
   "cell_type": "markdown",
   "id": "00e81465",
   "metadata": {},
   "source": [
    "Let's look at the table above. For some reason lemonade appears twice, and fries appears in two different strings. We should be able to join that data."
   ]
  },
  {
   "cell_type": "code",
   "execution_count": 357,
   "id": "114e08d0",
   "metadata": {},
   "outputs": [],
   "source": [
    "import keyword"
   ]
  },
  {
   "cell_type": "code",
   "execution_count": 360,
   "id": "e0d6688a",
   "metadata": {},
   "outputs": [
    {
     "data": {
      "text/plain": [
       "[]"
      ]
     },
     "execution_count": 360,
     "metadata": {},
     "output_type": "execute_result"
    }
   ],
   "source": [
    "from difflib import get_close_matches\n",
    "get_close_matches(\"sandwich\", keyword.kwlist)"
   ]
  }
 ],
 "metadata": {
  "kernelspec": {
   "display_name": "Python 3 (ipykernel)",
   "language": "python",
   "name": "python3"
  },
  "language_info": {
   "codemirror_mode": {
    "name": "ipython",
    "version": 3
   },
   "file_extension": ".py",
   "mimetype": "text/x-python",
   "name": "python",
   "nbconvert_exporter": "python",
   "pygments_lexer": "ipython3",
   "version": "3.9.7"
  }
 },
 "nbformat": 4,
 "nbformat_minor": 5
}
