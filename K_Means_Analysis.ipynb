{
  "cells": [
    {
      "cell_type": "code",
      "execution_count": null,
      "id": "3d434678",
      "metadata": {
        "id": "3d434678"
      },
      "outputs": [],
      "source": [
        "# K-Means on text: Find similar products (e.g. \"Fries\", \"Home fries\", \"Bacon fries\")"
      ]
    },
    {
      "cell_type": "code",
      "execution_count": null,
      "id": "81ca1c3e",
      "metadata": {
        "id": "81ca1c3e"
      },
      "outputs": [],
      "source": [
        "# K-Means on data bought together to find cuisines"
      ]
    },
    {
      "cell_type": "code",
      "execution_count": null,
      "id": "ae8086b6",
      "metadata": {
        "id": "ae8086b6"
      },
      "outputs": [],
      "source": [
        "import pandas as pd"
      ]
    },
    {
      "cell_type": "code",
      "source": [
        "# Mount drive\n",
        "from google.colab import drive\n",
        "drive.mount('/content/drive')"
      ],
      "metadata": {
        "colab": {
          "base_uri": "https://localhost:8080/"
        },
        "id": "H1pOInzFLx8H",
        "outputId": "e7606c4c-d089-4892-c2c6-c4ebec316454"
      },
      "id": "H1pOInzFLx8H",
      "execution_count": null,
      "outputs": [
        {
          "output_type": "stream",
          "name": "stdout",
          "text": [
            "Drive already mounted at /content/drive; to attempt to forcibly remount, call drive.mount(\"/content/drive\", force_remount=True).\n"
          ]
        }
      ]
    },
    {
      "cell_type": "code",
      "source": [
        "rootFolder = \"./drive/MyDrive/DataScience/FutureFoodsBusinessCase/\""
      ],
      "metadata": {
        "id": "lU8HB2VGL4IA"
      },
      "id": "lU8HB2VGL4IA",
      "execution_count": null,
      "outputs": []
    },
    {
      "cell_type": "code",
      "execution_count": null,
      "id": "72c77710",
      "metadata": {
        "colab": {
          "base_uri": "https://localhost:8080/",
          "height": 427
        },
        "id": "72c77710",
        "outputId": "927ec347-19aa-4b00-c3a1-1855012fc489"
      },
      "outputs": [
        {
          "output_type": "execute_result",
          "data": {
            "text/plain": [
              "         date  hour                 name  requested_orders  accepted_orders  \\\n",
              "0  2022-02-17    15           Tater Tots                 1                1   \n",
              "1  2022-02-21    19  2 Protein Poke Bowl                 3                3   \n",
              "2  2022-02-16     9       Bagel with Lox                 7                7   \n",
              "3  2022-02-18    19     Spicy Fried Rice                 1                1   \n",
              "4  2022-02-25    12  Tonkotsu Pork Ramen                 1                1   \n",
              "\n",
              "   completed_orders_ofo_state  first_time_orders  first_time_orders_promo  \\\n",
              "0                           1                  0                        0   \n",
              "1                           3                  2                        2   \n",
              "2                           7                  6                        5   \n",
              "3                           1                  1                        1   \n",
              "4                           1                  1                        1   \n",
              "\n",
              "   returning_orders  returning_orders_promo  order_issues  avg_prep_time  \\\n",
              "0                 1                       0           NaN            NaN   \n",
              "1                 1                       0           NaN            NaN   \n",
              "2                 1                       1           1.0           51.0   \n",
              "3                 0                       0           NaN          667.0   \n",
              "4                 0                       0           NaN            NaN   \n",
              "\n",
              "   avg_rating  total_eater_spend  total_eater_spend__1  \n",
              "0         NaN              23.25                  0.00  \n",
              "1         NaN             130.00                -43.50  \n",
              "2         NaN             219.50                -47.22  \n",
              "3         NaN              23.99                 -5.00  \n",
              "4         NaN              53.57                 -3.00  "
            ],
            "text/html": [
              "\n",
              "  <div id=\"df-9e7d411a-756c-4ffd-8a00-53d6b4411f7d\">\n",
              "    <div class=\"colab-df-container\">\n",
              "      <div>\n",
              "<style scoped>\n",
              "    .dataframe tbody tr th:only-of-type {\n",
              "        vertical-align: middle;\n",
              "    }\n",
              "\n",
              "    .dataframe tbody tr th {\n",
              "        vertical-align: top;\n",
              "    }\n",
              "\n",
              "    .dataframe thead th {\n",
              "        text-align: right;\n",
              "    }\n",
              "</style>\n",
              "<table border=\"1\" class=\"dataframe\">\n",
              "  <thead>\n",
              "    <tr style=\"text-align: right;\">\n",
              "      <th></th>\n",
              "      <th>date</th>\n",
              "      <th>hour</th>\n",
              "      <th>name</th>\n",
              "      <th>requested_orders</th>\n",
              "      <th>accepted_orders</th>\n",
              "      <th>completed_orders_ofo_state</th>\n",
              "      <th>first_time_orders</th>\n",
              "      <th>first_time_orders_promo</th>\n",
              "      <th>returning_orders</th>\n",
              "      <th>returning_orders_promo</th>\n",
              "      <th>order_issues</th>\n",
              "      <th>avg_prep_time</th>\n",
              "      <th>avg_rating</th>\n",
              "      <th>total_eater_spend</th>\n",
              "      <th>total_eater_spend__1</th>\n",
              "    </tr>\n",
              "  </thead>\n",
              "  <tbody>\n",
              "    <tr>\n",
              "      <th>0</th>\n",
              "      <td>2022-02-17</td>\n",
              "      <td>15</td>\n",
              "      <td>Tater Tots</td>\n",
              "      <td>1</td>\n",
              "      <td>1</td>\n",
              "      <td>1</td>\n",
              "      <td>0</td>\n",
              "      <td>0</td>\n",
              "      <td>1</td>\n",
              "      <td>0</td>\n",
              "      <td>NaN</td>\n",
              "      <td>NaN</td>\n",
              "      <td>NaN</td>\n",
              "      <td>23.25</td>\n",
              "      <td>0.00</td>\n",
              "    </tr>\n",
              "    <tr>\n",
              "      <th>1</th>\n",
              "      <td>2022-02-21</td>\n",
              "      <td>19</td>\n",
              "      <td>2 Protein Poke Bowl</td>\n",
              "      <td>3</td>\n",
              "      <td>3</td>\n",
              "      <td>3</td>\n",
              "      <td>2</td>\n",
              "      <td>2</td>\n",
              "      <td>1</td>\n",
              "      <td>0</td>\n",
              "      <td>NaN</td>\n",
              "      <td>NaN</td>\n",
              "      <td>NaN</td>\n",
              "      <td>130.00</td>\n",
              "      <td>-43.50</td>\n",
              "    </tr>\n",
              "    <tr>\n",
              "      <th>2</th>\n",
              "      <td>2022-02-16</td>\n",
              "      <td>9</td>\n",
              "      <td>Bagel with Lox</td>\n",
              "      <td>7</td>\n",
              "      <td>7</td>\n",
              "      <td>7</td>\n",
              "      <td>6</td>\n",
              "      <td>5</td>\n",
              "      <td>1</td>\n",
              "      <td>1</td>\n",
              "      <td>1.0</td>\n",
              "      <td>51.0</td>\n",
              "      <td>NaN</td>\n",
              "      <td>219.50</td>\n",
              "      <td>-47.22</td>\n",
              "    </tr>\n",
              "    <tr>\n",
              "      <th>3</th>\n",
              "      <td>2022-02-18</td>\n",
              "      <td>19</td>\n",
              "      <td>Spicy Fried Rice</td>\n",
              "      <td>1</td>\n",
              "      <td>1</td>\n",
              "      <td>1</td>\n",
              "      <td>1</td>\n",
              "      <td>1</td>\n",
              "      <td>0</td>\n",
              "      <td>0</td>\n",
              "      <td>NaN</td>\n",
              "      <td>667.0</td>\n",
              "      <td>NaN</td>\n",
              "      <td>23.99</td>\n",
              "      <td>-5.00</td>\n",
              "    </tr>\n",
              "    <tr>\n",
              "      <th>4</th>\n",
              "      <td>2022-02-25</td>\n",
              "      <td>12</td>\n",
              "      <td>Tonkotsu Pork Ramen</td>\n",
              "      <td>1</td>\n",
              "      <td>1</td>\n",
              "      <td>1</td>\n",
              "      <td>1</td>\n",
              "      <td>1</td>\n",
              "      <td>0</td>\n",
              "      <td>0</td>\n",
              "      <td>NaN</td>\n",
              "      <td>NaN</td>\n",
              "      <td>NaN</td>\n",
              "      <td>53.57</td>\n",
              "      <td>-3.00</td>\n",
              "    </tr>\n",
              "  </tbody>\n",
              "</table>\n",
              "</div>\n",
              "      <button class=\"colab-df-convert\" onclick=\"convertToInteractive('df-9e7d411a-756c-4ffd-8a00-53d6b4411f7d')\"\n",
              "              title=\"Convert this dataframe to an interactive table.\"\n",
              "              style=\"display:none;\">\n",
              "        \n",
              "  <svg xmlns=\"http://www.w3.org/2000/svg\" height=\"24px\"viewBox=\"0 0 24 24\"\n",
              "       width=\"24px\">\n",
              "    <path d=\"M0 0h24v24H0V0z\" fill=\"none\"/>\n",
              "    <path d=\"M18.56 5.44l.94 2.06.94-2.06 2.06-.94-2.06-.94-.94-2.06-.94 2.06-2.06.94zm-11 1L8.5 8.5l.94-2.06 2.06-.94-2.06-.94L8.5 2.5l-.94 2.06-2.06.94zm10 10l.94 2.06.94-2.06 2.06-.94-2.06-.94-.94-2.06-.94 2.06-2.06.94z\"/><path d=\"M17.41 7.96l-1.37-1.37c-.4-.4-.92-.59-1.43-.59-.52 0-1.04.2-1.43.59L10.3 9.45l-7.72 7.72c-.78.78-.78 2.05 0 2.83L4 21.41c.39.39.9.59 1.41.59.51 0 1.02-.2 1.41-.59l7.78-7.78 2.81-2.81c.8-.78.8-2.07 0-2.86zM5.41 20L4 18.59l7.72-7.72 1.47 1.35L5.41 20z\"/>\n",
              "  </svg>\n",
              "      </button>\n",
              "      \n",
              "  <style>\n",
              "    .colab-df-container {\n",
              "      display:flex;\n",
              "      flex-wrap:wrap;\n",
              "      gap: 12px;\n",
              "    }\n",
              "\n",
              "    .colab-df-convert {\n",
              "      background-color: #E8F0FE;\n",
              "      border: none;\n",
              "      border-radius: 50%;\n",
              "      cursor: pointer;\n",
              "      display: none;\n",
              "      fill: #1967D2;\n",
              "      height: 32px;\n",
              "      padding: 0 0 0 0;\n",
              "      width: 32px;\n",
              "    }\n",
              "\n",
              "    .colab-df-convert:hover {\n",
              "      background-color: #E2EBFA;\n",
              "      box-shadow: 0px 1px 2px rgba(60, 64, 67, 0.3), 0px 1px 3px 1px rgba(60, 64, 67, 0.15);\n",
              "      fill: #174EA6;\n",
              "    }\n",
              "\n",
              "    [theme=dark] .colab-df-convert {\n",
              "      background-color: #3B4455;\n",
              "      fill: #D2E3FC;\n",
              "    }\n",
              "\n",
              "    [theme=dark] .colab-df-convert:hover {\n",
              "      background-color: #434B5C;\n",
              "      box-shadow: 0px 1px 3px 1px rgba(0, 0, 0, 0.15);\n",
              "      filter: drop-shadow(0px 1px 2px rgba(0, 0, 0, 0.3));\n",
              "      fill: #FFFFFF;\n",
              "    }\n",
              "  </style>\n",
              "\n",
              "      <script>\n",
              "        const buttonEl =\n",
              "          document.querySelector('#df-9e7d411a-756c-4ffd-8a00-53d6b4411f7d button.colab-df-convert');\n",
              "        buttonEl.style.display =\n",
              "          google.colab.kernel.accessAllowed ? 'block' : 'none';\n",
              "\n",
              "        async function convertToInteractive(key) {\n",
              "          const element = document.querySelector('#df-9e7d411a-756c-4ffd-8a00-53d6b4411f7d');\n",
              "          const dataTable =\n",
              "            await google.colab.kernel.invokeFunction('convertToInteractive',\n",
              "                                                     [key], {});\n",
              "          if (!dataTable) return;\n",
              "\n",
              "          const docLinkHtml = 'Like what you see? Visit the ' +\n",
              "            '<a target=\"_blank\" href=https://colab.research.google.com/notebooks/data_table.ipynb>data table notebook</a>'\n",
              "            + ' to learn more about interactive tables.';\n",
              "          element.innerHTML = '';\n",
              "          dataTable['output_type'] = 'display_data';\n",
              "          await google.colab.output.renderOutput(dataTable, element);\n",
              "          const docLink = document.createElement('div');\n",
              "          docLink.innerHTML = docLinkHtml;\n",
              "          element.appendChild(docLink);\n",
              "        }\n",
              "      </script>\n",
              "    </div>\n",
              "  </div>\n",
              "  "
            ]
          },
          "metadata": {},
          "execution_count": 4
        }
      ],
      "source": [
        "df = pd.read_csv(rootFolder+\"data/filtered_data.csv\").drop(\"index\",axis=1)\n",
        "df.head()"
      ]
    },
    {
      "cell_type": "markdown",
      "id": "517cb1dd",
      "metadata": {
        "id": "517cb1dd"
      },
      "source": [
        "## Part 1: Find similar products clutering names"
      ]
    },
    {
      "cell_type": "code",
      "execution_count": null,
      "id": "22591656",
      "metadata": {
        "id": "22591656"
      },
      "outputs": [],
      "source": [
        "text1 = df[\"name\"]"
      ]
    },
    {
      "cell_type": "code",
      "execution_count": null,
      "id": "7d14e597",
      "metadata": {
        "id": "7d14e597"
      },
      "outputs": [],
      "source": [
        "from gensim.parsing.preprocessing import remove_stopwords\n",
        "import string"
      ]
    },
    {
      "cell_type": "markdown",
      "id": "a0c859cf",
      "metadata": {
        "id": "a0c859cf"
      },
      "source": [
        "Remove unrelevant words such as \"the\", \"a\", etc."
      ]
    },
    {
      "cell_type": "code",
      "execution_count": null,
      "id": "e8ec2b47",
      "metadata": {
        "id": "e8ec2b47"
      },
      "outputs": [],
      "source": [
        "text2 = [remove_stopwords(x)\\\n",
        "        .translate(str.maketrans('','',string.punctuation))\\\n",
        "        .translate(str.maketrans('','',string.digits))\\\n",
        "        for x in text1]"
      ]
    },
    {
      "cell_type": "code",
      "execution_count": null,
      "id": "4fb114bd",
      "metadata": {
        "colab": {
          "base_uri": "https://localhost:8080/"
        },
        "id": "4fb114bd",
        "outputId": "bbc4fb1b-9e59-4620-8f96-9dd4c99fd511"
      },
      "outputs": [
        {
          "output_type": "execute_result",
          "data": {
            "text/plain": [
              "['Tater Tots',\n",
              " ' Protein Poke Bowl',\n",
              " 'Bagel Lox',\n",
              " 'Spicy Fried Rice',\n",
              " 'Tonkotsu Pork Ramen']"
            ]
          },
          "metadata": {},
          "execution_count": 9
        }
      ],
      "source": [
        "text2[:5]"
      ]
    },
    {
      "cell_type": "markdown",
      "id": "d1f96da1",
      "metadata": {
        "id": "d1f96da1"
      },
      "source": [
        "Stemming words to make common patterns"
      ]
    },
    {
      "cell_type": "code",
      "execution_count": null,
      "id": "db879b5f",
      "metadata": {
        "colab": {
          "base_uri": "https://localhost:8080/"
        },
        "id": "db879b5f",
        "outputId": "35dd53e8-8569-4c57-e7e6-cdbacc50f056"
      },
      "outputs": [
        {
          "output_type": "stream",
          "name": "stdout",
          "text": [
            "[nltk_data] Downloading package punkt to /root/nltk_data...\n",
            "[nltk_data]   Package punkt is already up-to-date!\n"
          ]
        },
        {
          "output_type": "execute_result",
          "data": {
            "text/plain": [
              "True"
            ]
          },
          "metadata": {},
          "execution_count": 10
        }
      ],
      "source": [
        "from nltk.stem import PorterStemmer\n",
        "from nltk.tokenize import word_tokenize\n",
        "import nltk\n",
        "nltk.download('punkt')"
      ]
    },
    {
      "cell_type": "code",
      "execution_count": null,
      "id": "b1c4858a",
      "metadata": {
        "id": "b1c4858a"
      },
      "outputs": [],
      "source": [
        "def stemSentence(sentence):\n",
        "    porter = PorterStemmer()\n",
        "    token_words = word_tokenize(sentence)\n",
        "    stem_sentence = [porter.stem(word) for word in token_words]\n",
        "    return ' '.join(stem_sentence)\n",
        "\n",
        "text3 = pd.Series([stemSentence(x) for x in text2])"
      ]
    },
    {
      "cell_type": "code",
      "execution_count": null,
      "id": "163a07d9",
      "metadata": {
        "colab": {
          "base_uri": "https://localhost:8080/"
        },
        "id": "163a07d9",
        "outputId": "dc892a44-d788-4027-918b-bafcfdd128fc"
      },
      "outputs": [
        {
          "output_type": "execute_result",
          "data": {
            "text/plain": [
              "0              tater tot\n",
              "1      protein poke bowl\n",
              "2              bagel lox\n",
              "3         spici fri rice\n",
              "4    tonkotsu pork ramen\n",
              "dtype: object"
            ]
          },
          "metadata": {},
          "execution_count": 12
        }
      ],
      "source": [
        "text3[:5]"
      ]
    },
    {
      "cell_type": "code",
      "execution_count": null,
      "id": "e4b7d34d",
      "metadata": {
        "id": "e4b7d34d"
      },
      "outputs": [],
      "source": [
        "df[\"new_name\"] = text3"
      ]
    },
    {
      "cell_type": "code",
      "execution_count": null,
      "id": "4b01db89",
      "metadata": {
        "colab": {
          "base_uri": "https://localhost:8080/",
          "height": 206
        },
        "id": "4b01db89",
        "outputId": "15136158-5238-4037-d8fd-432e4619acf0"
      },
      "outputs": [
        {
          "output_type": "execute_result",
          "data": {
            "text/plain": [
              "                           name                 new_name\n",
              "90820                Fettuccine                fettuccin\n",
              "62821                      Coke                     coke\n",
              "14886           Vegetable Pizza              veget pizza\n",
              "59729                Apple Bowl                appl bowl\n",
              "68725  Deep Space Sausage Pizza  deep space sausag pizza"
            ],
            "text/html": [
              "\n",
              "  <div id=\"df-ecaea54c-6b01-4ff5-a598-bf1c2a437cf3\">\n",
              "    <div class=\"colab-df-container\">\n",
              "      <div>\n",
              "<style scoped>\n",
              "    .dataframe tbody tr th:only-of-type {\n",
              "        vertical-align: middle;\n",
              "    }\n",
              "\n",
              "    .dataframe tbody tr th {\n",
              "        vertical-align: top;\n",
              "    }\n",
              "\n",
              "    .dataframe thead th {\n",
              "        text-align: right;\n",
              "    }\n",
              "</style>\n",
              "<table border=\"1\" class=\"dataframe\">\n",
              "  <thead>\n",
              "    <tr style=\"text-align: right;\">\n",
              "      <th></th>\n",
              "      <th>name</th>\n",
              "      <th>new_name</th>\n",
              "    </tr>\n",
              "  </thead>\n",
              "  <tbody>\n",
              "    <tr>\n",
              "      <th>90820</th>\n",
              "      <td>Fettuccine</td>\n",
              "      <td>fettuccin</td>\n",
              "    </tr>\n",
              "    <tr>\n",
              "      <th>62821</th>\n",
              "      <td>Coke</td>\n",
              "      <td>coke</td>\n",
              "    </tr>\n",
              "    <tr>\n",
              "      <th>14886</th>\n",
              "      <td>Vegetable Pizza</td>\n",
              "      <td>veget pizza</td>\n",
              "    </tr>\n",
              "    <tr>\n",
              "      <th>59729</th>\n",
              "      <td>Apple Bowl</td>\n",
              "      <td>appl bowl</td>\n",
              "    </tr>\n",
              "    <tr>\n",
              "      <th>68725</th>\n",
              "      <td>Deep Space Sausage Pizza</td>\n",
              "      <td>deep space sausag pizza</td>\n",
              "    </tr>\n",
              "  </tbody>\n",
              "</table>\n",
              "</div>\n",
              "      <button class=\"colab-df-convert\" onclick=\"convertToInteractive('df-ecaea54c-6b01-4ff5-a598-bf1c2a437cf3')\"\n",
              "              title=\"Convert this dataframe to an interactive table.\"\n",
              "              style=\"display:none;\">\n",
              "        \n",
              "  <svg xmlns=\"http://www.w3.org/2000/svg\" height=\"24px\"viewBox=\"0 0 24 24\"\n",
              "       width=\"24px\">\n",
              "    <path d=\"M0 0h24v24H0V0z\" fill=\"none\"/>\n",
              "    <path d=\"M18.56 5.44l.94 2.06.94-2.06 2.06-.94-2.06-.94-.94-2.06-.94 2.06-2.06.94zm-11 1L8.5 8.5l.94-2.06 2.06-.94-2.06-.94L8.5 2.5l-.94 2.06-2.06.94zm10 10l.94 2.06.94-2.06 2.06-.94-2.06-.94-.94-2.06-.94 2.06-2.06.94z\"/><path d=\"M17.41 7.96l-1.37-1.37c-.4-.4-.92-.59-1.43-.59-.52 0-1.04.2-1.43.59L10.3 9.45l-7.72 7.72c-.78.78-.78 2.05 0 2.83L4 21.41c.39.39.9.59 1.41.59.51 0 1.02-.2 1.41-.59l7.78-7.78 2.81-2.81c.8-.78.8-2.07 0-2.86zM5.41 20L4 18.59l7.72-7.72 1.47 1.35L5.41 20z\"/>\n",
              "  </svg>\n",
              "      </button>\n",
              "      \n",
              "  <style>\n",
              "    .colab-df-container {\n",
              "      display:flex;\n",
              "      flex-wrap:wrap;\n",
              "      gap: 12px;\n",
              "    }\n",
              "\n",
              "    .colab-df-convert {\n",
              "      background-color: #E8F0FE;\n",
              "      border: none;\n",
              "      border-radius: 50%;\n",
              "      cursor: pointer;\n",
              "      display: none;\n",
              "      fill: #1967D2;\n",
              "      height: 32px;\n",
              "      padding: 0 0 0 0;\n",
              "      width: 32px;\n",
              "    }\n",
              "\n",
              "    .colab-df-convert:hover {\n",
              "      background-color: #E2EBFA;\n",
              "      box-shadow: 0px 1px 2px rgba(60, 64, 67, 0.3), 0px 1px 3px 1px rgba(60, 64, 67, 0.15);\n",
              "      fill: #174EA6;\n",
              "    }\n",
              "\n",
              "    [theme=dark] .colab-df-convert {\n",
              "      background-color: #3B4455;\n",
              "      fill: #D2E3FC;\n",
              "    }\n",
              "\n",
              "    [theme=dark] .colab-df-convert:hover {\n",
              "      background-color: #434B5C;\n",
              "      box-shadow: 0px 1px 3px 1px rgba(0, 0, 0, 0.15);\n",
              "      filter: drop-shadow(0px 1px 2px rgba(0, 0, 0, 0.3));\n",
              "      fill: #FFFFFF;\n",
              "    }\n",
              "  </style>\n",
              "\n",
              "      <script>\n",
              "        const buttonEl =\n",
              "          document.querySelector('#df-ecaea54c-6b01-4ff5-a598-bf1c2a437cf3 button.colab-df-convert');\n",
              "        buttonEl.style.display =\n",
              "          google.colab.kernel.accessAllowed ? 'block' : 'none';\n",
              "\n",
              "        async function convertToInteractive(key) {\n",
              "          const element = document.querySelector('#df-ecaea54c-6b01-4ff5-a598-bf1c2a437cf3');\n",
              "          const dataTable =\n",
              "            await google.colab.kernel.invokeFunction('convertToInteractive',\n",
              "                                                     [key], {});\n",
              "          if (!dataTable) return;\n",
              "\n",
              "          const docLinkHtml = 'Like what you see? Visit the ' +\n",
              "            '<a target=\"_blank\" href=https://colab.research.google.com/notebooks/data_table.ipynb>data table notebook</a>'\n",
              "            + ' to learn more about interactive tables.';\n",
              "          element.innerHTML = '';\n",
              "          dataTable['output_type'] = 'display_data';\n",
              "          await google.colab.output.renderOutput(dataTable, element);\n",
              "          const docLink = document.createElement('div');\n",
              "          docLink.innerHTML = docLinkHtml;\n",
              "          element.appendChild(docLink);\n",
              "        }\n",
              "      </script>\n",
              "    </div>\n",
              "  </div>\n",
              "  "
            ]
          },
          "metadata": {},
          "execution_count": 14
        }
      ],
      "source": [
        "df[[\"name\", \"new_name\"]].sample(5)"
      ]
    },
    {
      "cell_type": "markdown",
      "id": "85d7be50",
      "metadata": {
        "id": "85d7be50"
      },
      "source": [
        "Vectorize all words"
      ]
    },
    {
      "cell_type": "code",
      "execution_count": null,
      "id": "0a85299a",
      "metadata": {
        "id": "0a85299a"
      },
      "outputs": [],
      "source": [
        "from sklearn.feature_extraction.text import CountVectorizer"
      ]
    },
    {
      "cell_type": "code",
      "execution_count": null,
      "id": "9ef2dc30",
      "metadata": {
        "id": "9ef2dc30"
      },
      "outputs": [],
      "source": [
        "vectorizer_cv = CountVectorizer(analyzer='word')\n",
        "X_cv = vectorizer_cv.fit_transform(text3)"
      ]
    },
    {
      "cell_type": "code",
      "execution_count": null,
      "id": "324a8239",
      "metadata": {
        "id": "324a8239"
      },
      "outputs": [],
      "source": [
        "matrix = pd.concat([text1, pd.DataFrame(X_cv.toarray(), columns=vectorizer_cv.get_feature_names_out())],axis=1)"
      ]
    },
    {
      "cell_type": "code",
      "execution_count": null,
      "id": "b87daab9",
      "metadata": {
        "colab": {
          "base_uri": "https://localhost:8080/",
          "height": 349
        },
        "id": "b87daab9",
        "outputId": "52ba305b-e358-40e6-a8ad-192025a7d5af"
      },
      "outputs": [
        {
          "output_type": "execute_result",
          "data": {
            "text/plain": [
              "                              name  about  abund  acai  af  after  agedashi  \\\n",
              "7179                  Cheese Fries      0      0     0   0      0         0   \n",
              "10686               Collard Greens      0      0     0   0      0         0   \n",
              "66543          Chicken and Waffles      0      0     0   0      0         0   \n",
              "28581  Bacon, Egg and Cheese Bagel      0      0     0   0      0         0   \n",
              "6                          Oatmeal      0      0     0   0      0         0   \n",
              "\n",
              "       agent  aglio  agua  ...  할배곰의  핸드폰하고픈날엔  헤이즐넛라떼  헤이즐넛아메리카노  회식에  회의실에서  \\\n",
              "7179       0      0     0  ...     0         0       0          0    0      0   \n",
              "10686      0      0     0  ...     0         0       0          0    0      0   \n",
              "66543      0      0     0  ...     0         0       0          0    0      0   \n",
              "28581      0      0     0  ...     0         0       0          0    0      0   \n",
              "6          0      0     0  ...     0         0       0          0    0      0   \n",
              "\n",
              "       회의쟁이에이드  회장님라떼  휴가  흑임자라떼  \n",
              "7179         0      0   0      0  \n",
              "10686        0      0   0      0  \n",
              "66543        0      0   0      0  \n",
              "28581        0      0   0      0  \n",
              "6            0      0   0      0  \n",
              "\n",
              "[5 rows x 1967 columns]"
            ],
            "text/html": [
              "\n",
              "  <div id=\"df-4064e497-54b2-4f53-98f1-95d240729c75\">\n",
              "    <div class=\"colab-df-container\">\n",
              "      <div>\n",
              "<style scoped>\n",
              "    .dataframe tbody tr th:only-of-type {\n",
              "        vertical-align: middle;\n",
              "    }\n",
              "\n",
              "    .dataframe tbody tr th {\n",
              "        vertical-align: top;\n",
              "    }\n",
              "\n",
              "    .dataframe thead th {\n",
              "        text-align: right;\n",
              "    }\n",
              "</style>\n",
              "<table border=\"1\" class=\"dataframe\">\n",
              "  <thead>\n",
              "    <tr style=\"text-align: right;\">\n",
              "      <th></th>\n",
              "      <th>name</th>\n",
              "      <th>about</th>\n",
              "      <th>abund</th>\n",
              "      <th>acai</th>\n",
              "      <th>af</th>\n",
              "      <th>after</th>\n",
              "      <th>agedashi</th>\n",
              "      <th>agent</th>\n",
              "      <th>aglio</th>\n",
              "      <th>agua</th>\n",
              "      <th>...</th>\n",
              "      <th>할배곰의</th>\n",
              "      <th>핸드폰하고픈날엔</th>\n",
              "      <th>헤이즐넛라떼</th>\n",
              "      <th>헤이즐넛아메리카노</th>\n",
              "      <th>회식에</th>\n",
              "      <th>회의실에서</th>\n",
              "      <th>회의쟁이에이드</th>\n",
              "      <th>회장님라떼</th>\n",
              "      <th>휴가</th>\n",
              "      <th>흑임자라떼</th>\n",
              "    </tr>\n",
              "  </thead>\n",
              "  <tbody>\n",
              "    <tr>\n",
              "      <th>7179</th>\n",
              "      <td>Cheese Fries</td>\n",
              "      <td>0</td>\n",
              "      <td>0</td>\n",
              "      <td>0</td>\n",
              "      <td>0</td>\n",
              "      <td>0</td>\n",
              "      <td>0</td>\n",
              "      <td>0</td>\n",
              "      <td>0</td>\n",
              "      <td>0</td>\n",
              "      <td>...</td>\n",
              "      <td>0</td>\n",
              "      <td>0</td>\n",
              "      <td>0</td>\n",
              "      <td>0</td>\n",
              "      <td>0</td>\n",
              "      <td>0</td>\n",
              "      <td>0</td>\n",
              "      <td>0</td>\n",
              "      <td>0</td>\n",
              "      <td>0</td>\n",
              "    </tr>\n",
              "    <tr>\n",
              "      <th>10686</th>\n",
              "      <td>Collard Greens</td>\n",
              "      <td>0</td>\n",
              "      <td>0</td>\n",
              "      <td>0</td>\n",
              "      <td>0</td>\n",
              "      <td>0</td>\n",
              "      <td>0</td>\n",
              "      <td>0</td>\n",
              "      <td>0</td>\n",
              "      <td>0</td>\n",
              "      <td>...</td>\n",
              "      <td>0</td>\n",
              "      <td>0</td>\n",
              "      <td>0</td>\n",
              "      <td>0</td>\n",
              "      <td>0</td>\n",
              "      <td>0</td>\n",
              "      <td>0</td>\n",
              "      <td>0</td>\n",
              "      <td>0</td>\n",
              "      <td>0</td>\n",
              "    </tr>\n",
              "    <tr>\n",
              "      <th>66543</th>\n",
              "      <td>Chicken and Waffles</td>\n",
              "      <td>0</td>\n",
              "      <td>0</td>\n",
              "      <td>0</td>\n",
              "      <td>0</td>\n",
              "      <td>0</td>\n",
              "      <td>0</td>\n",
              "      <td>0</td>\n",
              "      <td>0</td>\n",
              "      <td>0</td>\n",
              "      <td>...</td>\n",
              "      <td>0</td>\n",
              "      <td>0</td>\n",
              "      <td>0</td>\n",
              "      <td>0</td>\n",
              "      <td>0</td>\n",
              "      <td>0</td>\n",
              "      <td>0</td>\n",
              "      <td>0</td>\n",
              "      <td>0</td>\n",
              "      <td>0</td>\n",
              "    </tr>\n",
              "    <tr>\n",
              "      <th>28581</th>\n",
              "      <td>Bacon, Egg and Cheese Bagel</td>\n",
              "      <td>0</td>\n",
              "      <td>0</td>\n",
              "      <td>0</td>\n",
              "      <td>0</td>\n",
              "      <td>0</td>\n",
              "      <td>0</td>\n",
              "      <td>0</td>\n",
              "      <td>0</td>\n",
              "      <td>0</td>\n",
              "      <td>...</td>\n",
              "      <td>0</td>\n",
              "      <td>0</td>\n",
              "      <td>0</td>\n",
              "      <td>0</td>\n",
              "      <td>0</td>\n",
              "      <td>0</td>\n",
              "      <td>0</td>\n",
              "      <td>0</td>\n",
              "      <td>0</td>\n",
              "      <td>0</td>\n",
              "    </tr>\n",
              "    <tr>\n",
              "      <th>6</th>\n",
              "      <td>Oatmeal</td>\n",
              "      <td>0</td>\n",
              "      <td>0</td>\n",
              "      <td>0</td>\n",
              "      <td>0</td>\n",
              "      <td>0</td>\n",
              "      <td>0</td>\n",
              "      <td>0</td>\n",
              "      <td>0</td>\n",
              "      <td>0</td>\n",
              "      <td>...</td>\n",
              "      <td>0</td>\n",
              "      <td>0</td>\n",
              "      <td>0</td>\n",
              "      <td>0</td>\n",
              "      <td>0</td>\n",
              "      <td>0</td>\n",
              "      <td>0</td>\n",
              "      <td>0</td>\n",
              "      <td>0</td>\n",
              "      <td>0</td>\n",
              "    </tr>\n",
              "  </tbody>\n",
              "</table>\n",
              "<p>5 rows × 1967 columns</p>\n",
              "</div>\n",
              "      <button class=\"colab-df-convert\" onclick=\"convertToInteractive('df-4064e497-54b2-4f53-98f1-95d240729c75')\"\n",
              "              title=\"Convert this dataframe to an interactive table.\"\n",
              "              style=\"display:none;\">\n",
              "        \n",
              "  <svg xmlns=\"http://www.w3.org/2000/svg\" height=\"24px\"viewBox=\"0 0 24 24\"\n",
              "       width=\"24px\">\n",
              "    <path d=\"M0 0h24v24H0V0z\" fill=\"none\"/>\n",
              "    <path d=\"M18.56 5.44l.94 2.06.94-2.06 2.06-.94-2.06-.94-.94-2.06-.94 2.06-2.06.94zm-11 1L8.5 8.5l.94-2.06 2.06-.94-2.06-.94L8.5 2.5l-.94 2.06-2.06.94zm10 10l.94 2.06.94-2.06 2.06-.94-2.06-.94-.94-2.06-.94 2.06-2.06.94z\"/><path d=\"M17.41 7.96l-1.37-1.37c-.4-.4-.92-.59-1.43-.59-.52 0-1.04.2-1.43.59L10.3 9.45l-7.72 7.72c-.78.78-.78 2.05 0 2.83L4 21.41c.39.39.9.59 1.41.59.51 0 1.02-.2 1.41-.59l7.78-7.78 2.81-2.81c.8-.78.8-2.07 0-2.86zM5.41 20L4 18.59l7.72-7.72 1.47 1.35L5.41 20z\"/>\n",
              "  </svg>\n",
              "      </button>\n",
              "      \n",
              "  <style>\n",
              "    .colab-df-container {\n",
              "      display:flex;\n",
              "      flex-wrap:wrap;\n",
              "      gap: 12px;\n",
              "    }\n",
              "\n",
              "    .colab-df-convert {\n",
              "      background-color: #E8F0FE;\n",
              "      border: none;\n",
              "      border-radius: 50%;\n",
              "      cursor: pointer;\n",
              "      display: none;\n",
              "      fill: #1967D2;\n",
              "      height: 32px;\n",
              "      padding: 0 0 0 0;\n",
              "      width: 32px;\n",
              "    }\n",
              "\n",
              "    .colab-df-convert:hover {\n",
              "      background-color: #E2EBFA;\n",
              "      box-shadow: 0px 1px 2px rgba(60, 64, 67, 0.3), 0px 1px 3px 1px rgba(60, 64, 67, 0.15);\n",
              "      fill: #174EA6;\n",
              "    }\n",
              "\n",
              "    [theme=dark] .colab-df-convert {\n",
              "      background-color: #3B4455;\n",
              "      fill: #D2E3FC;\n",
              "    }\n",
              "\n",
              "    [theme=dark] .colab-df-convert:hover {\n",
              "      background-color: #434B5C;\n",
              "      box-shadow: 0px 1px 3px 1px rgba(0, 0, 0, 0.15);\n",
              "      filter: drop-shadow(0px 1px 2px rgba(0, 0, 0, 0.3));\n",
              "      fill: #FFFFFF;\n",
              "    }\n",
              "  </style>\n",
              "\n",
              "      <script>\n",
              "        const buttonEl =\n",
              "          document.querySelector('#df-4064e497-54b2-4f53-98f1-95d240729c75 button.colab-df-convert');\n",
              "        buttonEl.style.display =\n",
              "          google.colab.kernel.accessAllowed ? 'block' : 'none';\n",
              "\n",
              "        async function convertToInteractive(key) {\n",
              "          const element = document.querySelector('#df-4064e497-54b2-4f53-98f1-95d240729c75');\n",
              "          const dataTable =\n",
              "            await google.colab.kernel.invokeFunction('convertToInteractive',\n",
              "                                                     [key], {});\n",
              "          if (!dataTable) return;\n",
              "\n",
              "          const docLinkHtml = 'Like what you see? Visit the ' +\n",
              "            '<a target=\"_blank\" href=https://colab.research.google.com/notebooks/data_table.ipynb>data table notebook</a>'\n",
              "            + ' to learn more about interactive tables.';\n",
              "          element.innerHTML = '';\n",
              "          dataTable['output_type'] = 'display_data';\n",
              "          await google.colab.output.renderOutput(dataTable, element);\n",
              "          const docLink = document.createElement('div');\n",
              "          docLink.innerHTML = docLinkHtml;\n",
              "          element.appendChild(docLink);\n",
              "        }\n",
              "      </script>\n",
              "    </div>\n",
              "  </div>\n",
              "  "
            ]
          },
          "metadata": {},
          "execution_count": 18
        }
      ],
      "source": [
        "matrix.sample(5)"
      ]
    },
    {
      "cell_type": "code",
      "execution_count": null,
      "id": "fea670fd",
      "metadata": {
        "colab": {
          "base_uri": "https://localhost:8080/"
        },
        "id": "fea670fd",
        "outputId": "efd074ce-b0ec-4443-ae7b-c15a81a237bb"
      },
      "outputs": [
        {
          "output_type": "execute_result",
          "data": {
            "text/plain": [
              "1967"
            ]
          },
          "metadata": {},
          "execution_count": 19
        }
      ],
      "source": [
        "len(matrix.columns)"
      ]
    },
    {
      "cell_type": "code",
      "execution_count": null,
      "id": "7d8c47c6",
      "metadata": {
        "id": "7d8c47c6"
      },
      "outputs": [],
      "source": [
        "import numpy as np"
      ]
    },
    {
      "cell_type": "code",
      "execution_count": null,
      "id": "93a9ab3a",
      "metadata": {
        "id": "93a9ab3a"
      },
      "outputs": [],
      "source": [
        "sse={}\n",
        "for k in np.arange(100,900,100):\n",
        "    kmeans = KMeans(n_clusters=k, max_iter=1000).fit(X_cv)\n",
        "    sse[k] = kmeans.inertia_"
      ]
    },
    {
      "cell_type": "code",
      "execution_count": null,
      "id": "e4eb9dbe",
      "metadata": {
        "id": "e4eb9dbe"
      },
      "outputs": [],
      "source": [
        "import matplotlib.pyplot as plt"
      ]
    },
    {
      "cell_type": "code",
      "execution_count": null,
      "id": "9f4b33b3",
      "metadata": {
        "colab": {
          "base_uri": "https://localhost:8080/",
          "height": 281
        },
        "id": "9f4b33b3",
        "outputId": "b8f81c02-0036-4738-fde6-85df9e9295d8"
      },
      "outputs": [
        {
          "output_type": "display_data",
          "data": {
            "text/plain": [
              "<Figure size 432x288 with 1 Axes>"
            ],
            "image/png": "[encoded data removed]"
          },
          "metadata": {
            "needs_background": "light"
          }
        }
      ],
      "source": [
        "plt.plot(list(sse.keys()),list(sse.values()))\n",
        "plt.xlabel('Values for K')\n",
        "plt.ylabel('SSE')\n",
        "plt.show();"
      ]
    },
    {
      "cell_type": "markdown",
      "source": [
        "K chosen: 200"
      ],
      "metadata": {
        "id": "m7pYmITWQ9mj"
      },
      "id": "m7pYmITWQ9mj"
    },
    {
      "cell_type": "code",
      "execution_count": null,
      "id": "eb11257c",
      "metadata": {
        "colab": {
          "base_uri": "https://localhost:8080/"
        },
        "id": "eb11257c",
        "outputId": "275e9814-1fbf-4cf0-cc6f-52f7a86d5784"
      },
      "outputs": [
        {
          "output_type": "execute_result",
          "data": {
            "text/plain": [
              "KMeans(max_iter=1000, n_clusters=200)"
            ]
          },
          "metadata": {},
          "execution_count": 22
        }
      ],
      "source": [
        "kmeans = KMeans(n_clusters=200, max_iter=1000)\n",
        "kmeans.fit(X_cv)"
      ]
    },
    {
      "cell_type": "code",
      "source": [
        "result = pd.concat([text1,pd.DataFrame(X_cv.toarray(),columns=vectorizer_cv.get_feature_names_out())],axis=1)\n",
        "result['cluster'] = kmeans.predict(X_cv)"
      ],
      "metadata": {
        "id": "Xi3smgoNREAX"
      },
      "id": "Xi3smgoNREAX",
      "execution_count": null,
      "outputs": []
    },
    {
      "cell_type": "code",
      "source": [
        "result"
      ],
      "metadata": {
        "colab": {
          "base_uri": "https://localhost:8080/",
          "height": 624
        },
        "id": "oEKPlO9jRH6J",
        "outputId": "c93b50e5-dc28-45d2-974c-cf47c37ee12a"
      },
      "id": "oEKPlO9jRH6J",
      "execution_count": null,
      "outputs": [
        {
          "output_type": "execute_result",
          "data": {
            "text/plain": [
              "                                  name  about  abund  acai  af  after  \\\n",
              "0                           Tater Tots      0      0     0   0      0   \n",
              "1                  2 Protein Poke Bowl      0      0     0   0      0   \n",
              "2                       Bagel with Lox      0      0     0   0      0   \n",
              "3                     Spicy Fried Rice      0      0     0   0      0   \n",
              "4                  Tonkotsu Pork Ramen      0      0     0   0      0   \n",
              "...                                ...    ...    ...   ...  ..    ...   \n",
              "97394        Spicy Tonkotsu Pork Ramen      0      0     0   0      0   \n",
              "97395              Spaghetti Carbonara      0      0     0   0      0   \n",
              "97396              Diet Pepsi (bottle)      0      0     0   0      0   \n",
              "97397  Double Smash Cheeseburger Combo      0      0     0   0      0   \n",
              "97398              The Heights Calzone      0      0     0   0      0   \n",
              "\n",
              "       agedashi  agent  aglio  agua  ...  핸드폰하고픈날엔  헤이즐넛라떼  헤이즐넛아메리카노  회식에  \\\n",
              "0             0      0      0     0  ...         0       0          0    0   \n",
              "1             0      0      0     0  ...         0       0          0    0   \n",
              "2             0      0      0     0  ...         0       0          0    0   \n",
              "3             0      0      0     0  ...         0       0          0    0   \n",
              "4             0      0      0     0  ...         0       0          0    0   \n",
              "...         ...    ...    ...   ...  ...       ...     ...        ...  ...   \n",
              "97394         0      0      0     0  ...         0       0          0    0   \n",
              "97395         0      0      0     0  ...         0       0          0    0   \n",
              "97396         0      0      0     0  ...         0       0          0    0   \n",
              "97397         0      0      0     0  ...         0       0          0    0   \n",
              "97398         0      0      0     0  ...         0       0          0    0   \n",
              "\n",
              "       회의실에서  회의쟁이에이드  회장님라떼  휴가  흑임자라떼  cluster  \n",
              "0          0        0      0   0      0      113  \n",
              "1          0        0      0   0      0      164  \n",
              "2          0        0      0   0      0      117  \n",
              "3          0        0      0   0      0       16  \n",
              "4          0        0      0   0      0      106  \n",
              "...      ...      ...    ...  ..    ...      ...  \n",
              "97394      0        0      0   0      0      106  \n",
              "97395      0        0      0   0      0       17  \n",
              "97396      0        0      0   0      0      101  \n",
              "97397      0        0      0   0      0       50  \n",
              "97398      0        0      0   0      0       46  \n",
              "\n",
              "[97399 rows x 1968 columns]"
            ],
            "text/html": [
              "\n",
              "  <div id=\"df-5f1f3e00-02b1-4f92-967b-dbfb10e0e2be\">\n",
              "    <div class=\"colab-df-container\">\n",
              "      <div>\n",
              "<style scoped>\n",
              "    .dataframe tbody tr th:only-of-type {\n",
              "        vertical-align: middle;\n",
              "    }\n",
              "\n",
              "    .dataframe tbody tr th {\n",
              "        vertical-align: top;\n",
              "    }\n",
              "\n",
              "    .dataframe thead th {\n",
              "        text-align: right;\n",
              "    }\n",
              "</style>\n",
              "<table border=\"1\" class=\"dataframe\">\n",
              "  <thead>\n",
              "    <tr style=\"text-align: right;\">\n",
              "      <th></th>\n",
              "      <th>name</th>\n",
              "      <th>about</th>\n",
              "      <th>abund</th>\n",
              "      <th>acai</th>\n",
              "      <th>af</th>\n",
              "      <th>after</th>\n",
              "      <th>agedashi</th>\n",
              "      <th>agent</th>\n",
              "      <th>aglio</th>\n",
              "      <th>agua</th>\n",
              "      <th>...</th>\n",
              "      <th>핸드폰하고픈날엔</th>\n",
              "      <th>헤이즐넛라떼</th>\n",
              "      <th>헤이즐넛아메리카노</th>\n",
              "      <th>회식에</th>\n",
              "      <th>회의실에서</th>\n",
              "      <th>회의쟁이에이드</th>\n",
              "      <th>회장님라떼</th>\n",
              "      <th>휴가</th>\n",
              "      <th>흑임자라떼</th>\n",
              "      <th>cluster</th>\n",
              "    </tr>\n",
              "  </thead>\n",
              "  <tbody>\n",
              "    <tr>\n",
              "      <th>0</th>\n",
              "      <td>Tater Tots</td>\n",
              "      <td>0</td>\n",
              "      <td>0</td>\n",
              "      <td>0</td>\n",
              "      <td>0</td>\n",
              "      <td>0</td>\n",
              "      <td>0</td>\n",
              "      <td>0</td>\n",
              "      <td>0</td>\n",
              "      <td>0</td>\n",
              "      <td>...</td>\n",
              "      <td>0</td>\n",
              "      <td>0</td>\n",
              "      <td>0</td>\n",
              "      <td>0</td>\n",
              "      <td>0</td>\n",
              "      <td>0</td>\n",
              "      <td>0</td>\n",
              "      <td>0</td>\n",
              "      <td>0</td>\n",
              "      <td>113</td>\n",
              "    </tr>\n",
              "    <tr>\n",
              "      <th>1</th>\n",
              "      <td>2 Protein Poke Bowl</td>\n",
              "      <td>0</td>\n",
              "      <td>0</td>\n",
              "      <td>0</td>\n",
              "      <td>0</td>\n",
              "      <td>0</td>\n",
              "      <td>0</td>\n",
              "      <td>0</td>\n",
              "      <td>0</td>\n",
              "      <td>0</td>\n",
              "      <td>...</td>\n",
              "      <td>0</td>\n",
              "      <td>0</td>\n",
              "      <td>0</td>\n",
              "      <td>0</td>\n",
              "      <td>0</td>\n",
              "      <td>0</td>\n",
              "      <td>0</td>\n",
              "      <td>0</td>\n",
              "      <td>0</td>\n",
              "      <td>164</td>\n",
              "    </tr>\n",
              "    <tr>\n",
              "      <th>2</th>\n",
              "      <td>Bagel with Lox</td>\n",
              "      <td>0</td>\n",
              "      <td>0</td>\n",
              "      <td>0</td>\n",
              "      <td>0</td>\n",
              "      <td>0</td>\n",
              "      <td>0</td>\n",
              "      <td>0</td>\n",
              "      <td>0</td>\n",
              "      <td>0</td>\n",
              "      <td>...</td>\n",
              "      <td>0</td>\n",
              "      <td>0</td>\n",
              "      <td>0</td>\n",
              "      <td>0</td>\n",
              "      <td>0</td>\n",
              "      <td>0</td>\n",
              "      <td>0</td>\n",
              "      <td>0</td>\n",
              "      <td>0</td>\n",
              "      <td>117</td>\n",
              "    </tr>\n",
              "    <tr>\n",
              "      <th>3</th>\n",
              "      <td>Spicy Fried Rice</td>\n",
              "      <td>0</td>\n",
              "      <td>0</td>\n",
              "      <td>0</td>\n",
              "      <td>0</td>\n",
              "      <td>0</td>\n",
              "      <td>0</td>\n",
              "      <td>0</td>\n",
              "      <td>0</td>\n",
              "      <td>0</td>\n",
              "      <td>...</td>\n",
              "      <td>0</td>\n",
              "      <td>0</td>\n",
              "      <td>0</td>\n",
              "      <td>0</td>\n",
              "      <td>0</td>\n",
              "      <td>0</td>\n",
              "      <td>0</td>\n",
              "      <td>0</td>\n",
              "      <td>0</td>\n",
              "      <td>16</td>\n",
              "    </tr>\n",
              "    <tr>\n",
              "      <th>4</th>\n",
              "      <td>Tonkotsu Pork Ramen</td>\n",
              "      <td>0</td>\n",
              "      <td>0</td>\n",
              "      <td>0</td>\n",
              "      <td>0</td>\n",
              "      <td>0</td>\n",
              "      <td>0</td>\n",
              "      <td>0</td>\n",
              "      <td>0</td>\n",
              "      <td>0</td>\n",
              "      <td>...</td>\n",
              "      <td>0</td>\n",
              "      <td>0</td>\n",
              "      <td>0</td>\n",
              "      <td>0</td>\n",
              "      <td>0</td>\n",
              "      <td>0</td>\n",
              "      <td>0</td>\n",
              "      <td>0</td>\n",
              "      <td>0</td>\n",
              "      <td>106</td>\n",
              "    </tr>\n",
              "    <tr>\n",
              "      <th>...</th>\n",
              "      <td>...</td>\n",
              "      <td>...</td>\n",
              "      <td>...</td>\n",
              "      <td>...</td>\n",
              "      <td>...</td>\n",
              "      <td>...</td>\n",
              "      <td>...</td>\n",
              "      <td>...</td>\n",
              "      <td>...</td>\n",
              "      <td>...</td>\n",
              "      <td>...</td>\n",
              "      <td>...</td>\n",
              "      <td>...</td>\n",
              "      <td>...</td>\n",
              "      <td>...</td>\n",
              "      <td>...</td>\n",
              "      <td>...</td>\n",
              "      <td>...</td>\n",
              "      <td>...</td>\n",
              "      <td>...</td>\n",
              "      <td>...</td>\n",
              "    </tr>\n",
              "    <tr>\n",
              "      <th>97394</th>\n",
              "      <td>Spicy Tonkotsu Pork Ramen</td>\n",
              "      <td>0</td>\n",
              "      <td>0</td>\n",
              "      <td>0</td>\n",
              "      <td>0</td>\n",
              "      <td>0</td>\n",
              "      <td>0</td>\n",
              "      <td>0</td>\n",
              "      <td>0</td>\n",
              "      <td>0</td>\n",
              "      <td>...</td>\n",
              "      <td>0</td>\n",
              "      <td>0</td>\n",
              "      <td>0</td>\n",
              "      <td>0</td>\n",
              "      <td>0</td>\n",
              "      <td>0</td>\n",
              "      <td>0</td>\n",
              "      <td>0</td>\n",
              "      <td>0</td>\n",
              "      <td>106</td>\n",
              "    </tr>\n",
              "    <tr>\n",
              "      <th>97395</th>\n",
              "      <td>Spaghetti Carbonara</td>\n",
              "      <td>0</td>\n",
              "      <td>0</td>\n",
              "      <td>0</td>\n",
              "      <td>0</td>\n",
              "      <td>0</td>\n",
              "      <td>0</td>\n",
              "      <td>0</td>\n",
              "      <td>0</td>\n",
              "      <td>0</td>\n",
              "      <td>...</td>\n",
              "      <td>0</td>\n",
              "      <td>0</td>\n",
              "      <td>0</td>\n",
              "      <td>0</td>\n",
              "      <td>0</td>\n",
              "      <td>0</td>\n",
              "      <td>0</td>\n",
              "      <td>0</td>\n",
              "      <td>0</td>\n",
              "      <td>17</td>\n",
              "    </tr>\n",
              "    <tr>\n",
              "      <th>97396</th>\n",
              "      <td>Diet Pepsi (bottle)</td>\n",
              "      <td>0</td>\n",
              "      <td>0</td>\n",
              "      <td>0</td>\n",
              "      <td>0</td>\n",
              "      <td>0</td>\n",
              "      <td>0</td>\n",
              "      <td>0</td>\n",
              "      <td>0</td>\n",
              "      <td>0</td>\n",
              "      <td>...</td>\n",
              "      <td>0</td>\n",
              "      <td>0</td>\n",
              "      <td>0</td>\n",
              "      <td>0</td>\n",
              "      <td>0</td>\n",
              "      <td>0</td>\n",
              "      <td>0</td>\n",
              "      <td>0</td>\n",
              "      <td>0</td>\n",
              "      <td>101</td>\n",
              "    </tr>\n",
              "    <tr>\n",
              "      <th>97397</th>\n",
              "      <td>Double Smash Cheeseburger Combo</td>\n",
              "      <td>0</td>\n",
              "      <td>0</td>\n",
              "      <td>0</td>\n",
              "      <td>0</td>\n",
              "      <td>0</td>\n",
              "      <td>0</td>\n",
              "      <td>0</td>\n",
              "      <td>0</td>\n",
              "      <td>0</td>\n",
              "      <td>...</td>\n",
              "      <td>0</td>\n",
              "      <td>0</td>\n",
              "      <td>0</td>\n",
              "      <td>0</td>\n",
              "      <td>0</td>\n",
              "      <td>0</td>\n",
              "      <td>0</td>\n",
              "      <td>0</td>\n",
              "      <td>0</td>\n",
              "      <td>50</td>\n",
              "    </tr>\n",
              "    <tr>\n",
              "      <th>97398</th>\n",
              "      <td>The Heights Calzone</td>\n",
              "      <td>0</td>\n",
              "      <td>0</td>\n",
              "      <td>0</td>\n",
              "      <td>0</td>\n",
              "      <td>0</td>\n",
              "      <td>0</td>\n",
              "      <td>0</td>\n",
              "      <td>0</td>\n",
              "      <td>0</td>\n",
              "      <td>...</td>\n",
              "      <td>0</td>\n",
              "      <td>0</td>\n",
              "      <td>0</td>\n",
              "      <td>0</td>\n",
              "      <td>0</td>\n",
              "      <td>0</td>\n",
              "      <td>0</td>\n",
              "      <td>0</td>\n",
              "      <td>0</td>\n",
              "      <td>46</td>\n",
              "    </tr>\n",
              "  </tbody>\n",
              "</table>\n",
              "<p>97399 rows × 1968 columns</p>\n",
              "</div>\n",
              "      <button class=\"colab-df-convert\" onclick=\"convertToInteractive('df-5f1f3e00-02b1-4f92-967b-dbfb10e0e2be')\"\n",
              "              title=\"Convert this dataframe to an interactive table.\"\n",
              "              style=\"display:none;\">\n",
              "        \n",
              "  <svg xmlns=\"http://www.w3.org/2000/svg\" height=\"24px\"viewBox=\"0 0 24 24\"\n",
              "       width=\"24px\">\n",
              "    <path d=\"M0 0h24v24H0V0z\" fill=\"none\"/>\n",
              "    <path d=\"M18.56 5.44l.94 2.06.94-2.06 2.06-.94-2.06-.94-.94-2.06-.94 2.06-2.06.94zm-11 1L8.5 8.5l.94-2.06 2.06-.94-2.06-.94L8.5 2.5l-.94 2.06-2.06.94zm10 10l.94 2.06.94-2.06 2.06-.94-2.06-.94-.94-2.06-.94 2.06-2.06.94z\"/><path d=\"M17.41 7.96l-1.37-1.37c-.4-.4-.92-.59-1.43-.59-.52 0-1.04.2-1.43.59L10.3 9.45l-7.72 7.72c-.78.78-.78 2.05 0 2.83L4 21.41c.39.39.9.59 1.41.59.51 0 1.02-.2 1.41-.59l7.78-7.78 2.81-2.81c.8-.78.8-2.07 0-2.86zM5.41 20L4 18.59l7.72-7.72 1.47 1.35L5.41 20z\"/>\n",
              "  </svg>\n",
              "      </button>\n",
              "      \n",
              "  <style>\n",
              "    .colab-df-container {\n",
              "      display:flex;\n",
              "      flex-wrap:wrap;\n",
              "      gap: 12px;\n",
              "    }\n",
              "\n",
              "    .colab-df-convert {\n",
              "      background-color: #E8F0FE;\n",
              "      border: none;\n",
              "      border-radius: 50%;\n",
              "      cursor: pointer;\n",
              "      display: none;\n",
              "      fill: #1967D2;\n",
              "      height: 32px;\n",
              "      padding: 0 0 0 0;\n",
              "      width: 32px;\n",
              "    }\n",
              "\n",
              "    .colab-df-convert:hover {\n",
              "      background-color: #E2EBFA;\n",
              "      box-shadow: 0px 1px 2px rgba(60, 64, 67, 0.3), 0px 1px 3px 1px rgba(60, 64, 67, 0.15);\n",
              "      fill: #174EA6;\n",
              "    }\n",
              "\n",
              "    [theme=dark] .colab-df-convert {\n",
              "      background-color: #3B4455;\n",
              "      fill: #D2E3FC;\n",
              "    }\n",
              "\n",
              "    [theme=dark] .colab-df-convert:hover {\n",
              "      background-color: #434B5C;\n",
              "      box-shadow: 0px 1px 3px 1px rgba(0, 0, 0, 0.15);\n",
              "      filter: drop-shadow(0px 1px 2px rgba(0, 0, 0, 0.3));\n",
              "      fill: #FFFFFF;\n",
              "    }\n",
              "  </style>\n",
              "\n",
              "      <script>\n",
              "        const buttonEl =\n",
              "          document.querySelector('#df-5f1f3e00-02b1-4f92-967b-dbfb10e0e2be button.colab-df-convert');\n",
              "        buttonEl.style.display =\n",
              "          google.colab.kernel.accessAllowed ? 'block' : 'none';\n",
              "\n",
              "        async function convertToInteractive(key) {\n",
              "          const element = document.querySelector('#df-5f1f3e00-02b1-4f92-967b-dbfb10e0e2be');\n",
              "          const dataTable =\n",
              "            await google.colab.kernel.invokeFunction('convertToInteractive',\n",
              "                                                     [key], {});\n",
              "          if (!dataTable) return;\n",
              "\n",
              "          const docLinkHtml = 'Like what you see? Visit the ' +\n",
              "            '<a target=\"_blank\" href=https://colab.research.google.com/notebooks/data_table.ipynb>data table notebook</a>'\n",
              "            + ' to learn more about interactive tables.';\n",
              "          element.innerHTML = '';\n",
              "          dataTable['output_type'] = 'display_data';\n",
              "          await google.colab.output.renderOutput(dataTable, element);\n",
              "          const docLink = document.createElement('div');\n",
              "          docLink.innerHTML = docLinkHtml;\n",
              "          element.appendChild(docLink);\n",
              "        }\n",
              "      </script>\n",
              "    </div>\n",
              "  </div>\n",
              "  "
            ]
          },
          "metadata": {},
          "execution_count": 24
        }
      ]
    },
    {
      "cell_type": "code",
      "execution_count": null,
      "id": "804e5123",
      "metadata": {
        "id": "804e5123"
      },
      "outputs": [],
      "source": [
        "clusters = result['cluster'].unique()\n",
        "labels = []\n",
        "for i in range(len(clusters)):\n",
        "    subset = result[result['cluster'] == clusters[i]]\n",
        "    words = ' '.join([x for x in np.where(subset.all()!=0,subset.columns,None) if x and x!='name' and x!='cluster' and len(x.split()) == 1])\n",
        "    labels.append(words)\n",
        "labels_table = pd.DataFrame(zip(clusters,labels),columns=['cluster','label'])\n",
        "result_labelled = pd.merge(result,labels_table,on='cluster',how='left')"
      ]
    },
    {
      "cell_type": "code",
      "source": [
        "result_labelled[\"label\"].value_counts()"
      ],
      "metadata": {
        "colab": {
          "base_uri": "https://localhost:8080/"
        },
        "id": "3cZYn9aqSCqY",
        "outputId": "1555fdc2-79f1-4f8a-8407-1ad3e6d32f61"
      },
      "id": "3cZYn9aqSCqY",
      "execution_count": null,
      "outputs": [
        {
          "output_type": "execute_result",
          "data": {
            "text/plain": [
              "                        13155\n",
              "chicken                  2776\n",
              "breakfast burrito        2764\n",
              "chees                    2686\n",
              "fri                      2146\n",
              "                        ...  \n",
              "rockaway                   89\n",
              "french platter toast       87\n",
              "egg two                    84\n",
              "bull oz red                74\n",
              "noodl vegan                62\n",
              "Name: label, Length: 174, dtype: int64"
            ]
          },
          "metadata": {},
          "execution_count": 26
        }
      ]
    },
    {
      "cell_type": "code",
      "source": [
        "result_labelled[[\"name\", \"label\"]].sample(5)"
      ],
      "metadata": {
        "colab": {
          "base_uri": "https://localhost:8080/",
          "height": 206
        },
        "id": "P5fn5MpVSbqC",
        "outputId": "8587b9a3-939d-4974-fa01-fe2323884f8c"
      },
      "id": "P5fn5MpVSbqC",
      "execution_count": null,
      "outputs": [
        {
          "output_type": "execute_result",
          "data": {
            "text/plain": [
              "                           name            label\n",
              "32588  Build Your Own Poke Bowl    bowl own your\n",
              "33277    White Burrito Burracho          burrito\n",
              "96909           Combo Rice Bowl        bowl rice\n",
              "20422               Turkey Club           turkey\n",
              "8092            Pepperoni Pizza  pepperoni pizza"
            ],
            "text/html": [
              "\n",
              "  <div id=\"df-6189d3d4-82c6-44ab-b418-97a9017d3c03\">\n",
              "    <div class=\"colab-df-container\">\n",
              "      <div>\n",
              "<style scoped>\n",
              "    .dataframe tbody tr th:only-of-type {\n",
              "        vertical-align: middle;\n",
              "    }\n",
              "\n",
              "    .dataframe tbody tr th {\n",
              "        vertical-align: top;\n",
              "    }\n",
              "\n",
              "    .dataframe thead th {\n",
              "        text-align: right;\n",
              "    }\n",
              "</style>\n",
              "<table border=\"1\" class=\"dataframe\">\n",
              "  <thead>\n",
              "    <tr style=\"text-align: right;\">\n",
              "      <th></th>\n",
              "      <th>name</th>\n",
              "      <th>label</th>\n",
              "    </tr>\n",
              "  </thead>\n",
              "  <tbody>\n",
              "    <tr>\n",
              "      <th>32588</th>\n",
              "      <td>Build Your Own Poke Bowl</td>\n",
              "      <td>bowl own your</td>\n",
              "    </tr>\n",
              "    <tr>\n",
              "      <th>33277</th>\n",
              "      <td>White Burrito Burracho</td>\n",
              "      <td>burrito</td>\n",
              "    </tr>\n",
              "    <tr>\n",
              "      <th>96909</th>\n",
              "      <td>Combo Rice Bowl</td>\n",
              "      <td>bowl rice</td>\n",
              "    </tr>\n",
              "    <tr>\n",
              "      <th>20422</th>\n",
              "      <td>Turkey Club</td>\n",
              "      <td>turkey</td>\n",
              "    </tr>\n",
              "    <tr>\n",
              "      <th>8092</th>\n",
              "      <td>Pepperoni Pizza</td>\n",
              "      <td>pepperoni pizza</td>\n",
              "    </tr>\n",
              "  </tbody>\n",
              "</table>\n",
              "</div>\n",
              "      <button class=\"colab-df-convert\" onclick=\"convertToInteractive('df-6189d3d4-82c6-44ab-b418-97a9017d3c03')\"\n",
              "              title=\"Convert this dataframe to an interactive table.\"\n",
              "              style=\"display:none;\">\n",
              "        \n",
              "  <svg xmlns=\"http://www.w3.org/2000/svg\" height=\"24px\"viewBox=\"0 0 24 24\"\n",
              "       width=\"24px\">\n",
              "    <path d=\"M0 0h24v24H0V0z\" fill=\"none\"/>\n",
              "    <path d=\"M18.56 5.44l.94 2.06.94-2.06 2.06-.94-2.06-.94-.94-2.06-.94 2.06-2.06.94zm-11 1L8.5 8.5l.94-2.06 2.06-.94-2.06-.94L8.5 2.5l-.94 2.06-2.06.94zm10 10l.94 2.06.94-2.06 2.06-.94-2.06-.94-.94-2.06-.94 2.06-2.06.94z\"/><path d=\"M17.41 7.96l-1.37-1.37c-.4-.4-.92-.59-1.43-.59-.52 0-1.04.2-1.43.59L10.3 9.45l-7.72 7.72c-.78.78-.78 2.05 0 2.83L4 21.41c.39.39.9.59 1.41.59.51 0 1.02-.2 1.41-.59l7.78-7.78 2.81-2.81c.8-.78.8-2.07 0-2.86zM5.41 20L4 18.59l7.72-7.72 1.47 1.35L5.41 20z\"/>\n",
              "  </svg>\n",
              "      </button>\n",
              "      \n",
              "  <style>\n",
              "    .colab-df-container {\n",
              "      display:flex;\n",
              "      flex-wrap:wrap;\n",
              "      gap: 12px;\n",
              "    }\n",
              "\n",
              "    .colab-df-convert {\n",
              "      background-color: #E8F0FE;\n",
              "      border: none;\n",
              "      border-radius: 50%;\n",
              "      cursor: pointer;\n",
              "      display: none;\n",
              "      fill: #1967D2;\n",
              "      height: 32px;\n",
              "      padding: 0 0 0 0;\n",
              "      width: 32px;\n",
              "    }\n",
              "\n",
              "    .colab-df-convert:hover {\n",
              "      background-color: #E2EBFA;\n",
              "      box-shadow: 0px 1px 2px rgba(60, 64, 67, 0.3), 0px 1px 3px 1px rgba(60, 64, 67, 0.15);\n",
              "      fill: #174EA6;\n",
              "    }\n",
              "\n",
              "    [theme=dark] .colab-df-convert {\n",
              "      background-color: #3B4455;\n",
              "      fill: #D2E3FC;\n",
              "    }\n",
              "\n",
              "    [theme=dark] .colab-df-convert:hover {\n",
              "      background-color: #434B5C;\n",
              "      box-shadow: 0px 1px 3px 1px rgba(0, 0, 0, 0.15);\n",
              "      filter: drop-shadow(0px 1px 2px rgba(0, 0, 0, 0.3));\n",
              "      fill: #FFFFFF;\n",
              "    }\n",
              "  </style>\n",
              "\n",
              "      <script>\n",
              "        const buttonEl =\n",
              "          document.querySelector('#df-6189d3d4-82c6-44ab-b418-97a9017d3c03 button.colab-df-convert');\n",
              "        buttonEl.style.display =\n",
              "          google.colab.kernel.accessAllowed ? 'block' : 'none';\n",
              "\n",
              "        async function convertToInteractive(key) {\n",
              "          const element = document.querySelector('#df-6189d3d4-82c6-44ab-b418-97a9017d3c03');\n",
              "          const dataTable =\n",
              "            await google.colab.kernel.invokeFunction('convertToInteractive',\n",
              "                                                     [key], {});\n",
              "          if (!dataTable) return;\n",
              "\n",
              "          const docLinkHtml = 'Like what you see? Visit the ' +\n",
              "            '<a target=\"_blank\" href=https://colab.research.google.com/notebooks/data_table.ipynb>data table notebook</a>'\n",
              "            + ' to learn more about interactive tables.';\n",
              "          element.innerHTML = '';\n",
              "          dataTable['output_type'] = 'display_data';\n",
              "          await google.colab.output.renderOutput(dataTable, element);\n",
              "          const docLink = document.createElement('div');\n",
              "          docLink.innerHTML = docLinkHtml;\n",
              "          element.appendChild(docLink);\n",
              "        }\n",
              "      </script>\n",
              "    </div>\n",
              "  </div>\n",
              "  "
            ]
          },
          "metadata": {},
          "execution_count": 27
        }
      ]
    },
    {
      "cell_type": "code",
      "source": [
        "result_labelled[\"label\"].iloc[52338]"
      ],
      "metadata": {
        "colab": {
          "base_uri": "https://localhost:8080/",
          "height": 35
        },
        "id": "vIZJCCetS63b",
        "outputId": "028e42fa-19e3-4de8-ac41-d93cfba4d2fe"
      },
      "id": "vIZJCCetS63b",
      "execution_count": null,
      "outputs": [
        {
          "output_type": "execute_result",
          "data": {
            "text/plain": [
              "'wing'"
            ],
            "application/vnd.google.colaboratory.intrinsic+json": {
              "type": "string"
            }
          },
          "metadata": {},
          "execution_count": 28
        }
      ]
    },
    {
      "cell_type": "code",
      "source": [
        "df[\"name_clustered\"]=result_labelled[\"label\"]\n",
        "df = df.replace(\"\", np.nan)"
      ],
      "metadata": {
        "id": "3VqbJApdV5cn"
      },
      "id": "3VqbJApdV5cn",
      "execution_count": null,
      "outputs": []
    },
    {
      "cell_type": "code",
      "source": [
        "from google.colab import files\n",
        "\n",
        "df.to_csv('clustered_names.csv', encoding = 'utf-8') \n",
        "files.download('clustered_names.csv')"
      ],
      "metadata": {
        "id": "aTLe9-iQhvnE"
      },
      "id": "aTLe9-iQhvnE",
      "execution_count": null,
      "outputs": []
    },
    {
      "cell_type": "code",
      "source": [
        ""
      ],
      "metadata": {
        "id": "5o4dUPk1eqcG"
      },
      "id": "5o4dUPk1eqcG",
      "execution_count": null,
      "outputs": []
    },
    {
      "cell_type": "code",
      "source": [
        ""
      ],
      "metadata": {
        "id": "tbj79V6Debx1"
      },
      "id": "tbj79V6Debx1",
      "execution_count": null,
      "outputs": []
    },
    {
      "cell_type": "code",
      "source": [
        ""
      ],
      "metadata": {
        "id": "-jnR367Pebp-"
      },
      "id": "-jnR367Pebp-",
      "execution_count": null,
      "outputs": []
    },
    {
      "cell_type": "markdown",
      "source": [
        "## Part 2: Cluster by cuisine"
      ],
      "metadata": {
        "id": "ncNoCCZTtUci"
      },
      "id": "ncNoCCZTtUci"
    },
    {
      "cell_type": "code",
      "source": [
        "kmeans = KMeans(n_clusters=50, max_iter=1000)\n",
        "kmeans.fit(X_cv)"
      ],
      "metadata": {
        "colab": {
          "base_uri": "https://localhost:8080/"
        },
        "id": "JlLdLXm3ebhm",
        "outputId": "5daff62a-19f7-40ae-de90-5ba30b21b359"
      },
      "id": "JlLdLXm3ebhm",
      "execution_count": null,
      "outputs": [
        {
          "output_type": "execute_result",
          "data": {
            "text/plain": [
              "KMeans(max_iter=1000, n_clusters=50)"
            ]
          },
          "metadata": {},
          "execution_count": 42
        }
      ]
    },
    {
      "cell_type": "code",
      "source": [
        "result = pd.concat([text1,pd.DataFrame(X_cv.toarray(),columns=vectorizer_cv.get_feature_names_out())],axis=1)\n",
        "result['cluster'] = kmeans.predict(X_cv)"
      ],
      "metadata": {
        "id": "d7KBaehMel-E"
      },
      "id": "d7KBaehMel-E",
      "execution_count": null,
      "outputs": []
    },
    {
      "cell_type": "code",
      "source": [
        "clusters = result['cluster'].unique()\n",
        "labels = []\n",
        "for i in range(len(clusters)):\n",
        "    subset = result[result['cluster'] == clusters[i]]\n",
        "    words = ' '.join([x for x in np.where(subset.all()!=0,subset.columns,None) if x and x!='name' and x!='cluster' and len(x.split()) == 1])\n",
        "    labels.append(words)\n",
        "labels_table = pd.DataFrame(zip(clusters,labels),columns=['cluster','label'])\n",
        "result_labelled = pd.merge(result,labels_table,on='cluster',how='left')"
      ],
      "metadata": {
        "id": "M6dMEh9Seu8V"
      },
      "id": "M6dMEh9Seu8V",
      "execution_count": null,
      "outputs": []
    },
    {
      "cell_type": "code",
      "source": [
        "len(result_labelled)"
      ],
      "metadata": {
        "colab": {
          "base_uri": "https://localhost:8080/"
        },
        "id": "NPX3gZXygU0Q",
        "outputId": "5e2a8eb1-36be-452e-bffe-29f3d785c51a"
      },
      "id": "NPX3gZXygU0Q",
      "execution_count": null,
      "outputs": [
        {
          "output_type": "execute_result",
          "data": {
            "text/plain": [
              "97399"
            ]
          },
          "metadata": {},
          "execution_count": 45
        }
      ]
    },
    {
      "cell_type": "code",
      "source": [
        "result_labelled[\"label\"].value_counts()"
      ],
      "metadata": {
        "colab": {
          "base_uri": "https://localhost:8080/"
        },
        "id": "hRYEkSVUev37",
        "outputId": "7bd03fda-dc0b-4353-cd2f-a194ea263295"
      },
      "id": "hRYEkSVUev37",
      "execution_count": null,
      "outputs": [
        {
          "output_type": "execute_result",
          "data": {
            "text/plain": [
              "                     36044\n",
              "chicken               4981\n",
              "the                   4311\n",
              "breakfast burrito     3581\n",
              "rice                  2928\n",
              "cheesesteak           2889\n",
              "egg                   2680\n",
              "wing                  2662\n",
              "fri                   2606\n",
              "burrito               1908\n",
              "salad                 1903\n",
              "chees grill           1868\n",
              "chicken wing          1775\n",
              "roll                  1750\n",
              "toast                 1552\n",
              "chees                 1521\n",
              "breakfast             1453\n",
              "chees mac             1422\n",
              "your                  1395\n",
              "veget                 1363\n",
              "ramen                 1355\n",
              "bottl                 1349\n",
              "bacon                 1320\n",
              "chicken fri           1296\n",
              "taco                  1255\n",
              "plate                 1042\n",
              "chip                   966\n",
              "pita                   823\n",
              "curri                  820\n",
              "meat                   784\n",
              "chees egg sausag       741\n",
              "quesadilla             736\n",
              "lamb                   726\n",
              "hot                    720\n",
              "af                     672\n",
              "chees fri              641\n",
              "garlic parmesan        502\n",
              "bread                  339\n",
              "noodl                  332\n",
              "curri red              213\n",
              "extra ranch sauc       175\n",
              "Name: label, dtype: int64"
            ]
          },
          "metadata": {},
          "execution_count": 46
        }
      ]
    },
    {
      "cell_type": "code",
      "source": [
        "df[\"cuisine_clustered\"]=result_labelled[\"label\"]\n",
        "df = df.replace(\"\", np.nan)"
      ],
      "metadata": {
        "id": "RfGtY3eMebaA"
      },
      "id": "RfGtY3eMebaA",
      "execution_count": null,
      "outputs": []
    },
    {
      "cell_type": "code",
      "source": [
        "len(df[(df[\"name_clustered\"].notna()) & (df[\"cuisine_clustered\"].notna())])/len(df)"
      ],
      "metadata": {
        "colab": {
          "base_uri": "https://localhost:8080/"
        },
        "id": "VTCvS99shBs2",
        "outputId": "2b9a6ce2-3730-4cdf-f87c-5aad2e314a2f"
      },
      "id": "VTCvS99shBs2",
      "execution_count": null,
      "outputs": [
        {
          "output_type": "execute_result",
          "data": {
            "text/plain": [
              "0.6025421205556525"
            ]
          },
          "metadata": {},
          "execution_count": 56
        }
      ]
    },
    {
      "cell_type": "markdown",
      "source": [
        "60.25% of data were removed from the clustering."
      ],
      "metadata": {
        "id": "IAGjk5DUhdUX"
      },
      "id": "IAGjk5DUhdUX"
    },
    {
      "cell_type": "code",
      "source": [
        ""
      ],
      "metadata": {
        "id": "ibW9Z5wBebR_"
      },
      "id": "ibW9Z5wBebR_",
      "execution_count": null,
      "outputs": []
    },
    {
      "cell_type": "code",
      "source": [
        ""
      ],
      "metadata": {
        "id": "j8XuJYrAebI5"
      },
      "id": "j8XuJYrAebI5",
      "execution_count": null,
      "outputs": []
    },
    {
      "cell_type": "code",
      "source": [
        "from google.colab import files\n",
        "\n",
        "df.to_csv('clustered_cuisines.csv', encoding = 'utf-8') \n",
        "files.download('clustered_cuisines.csv')"
      ],
      "metadata": {
        "colab": {
          "base_uri": "https://localhost:8080/",
          "height": 17
        },
        "id": "Y_6Xe_UrcWNl",
        "outputId": "709dbfc5-514c-4be2-bc1d-28e318640a19"
      },
      "id": "Y_6Xe_UrcWNl",
      "execution_count": null,
      "outputs": [
        {
          "output_type": "display_data",
          "data": {
            "text/plain": [
              "<IPython.core.display.Javascript object>"
            ],
            "application/javascript": [
              "\n",
              "    async function download(id, filename, size) {\n",
              "      if (!google.colab.kernel.accessAllowed) {\n",
              "        return;\n",
              "      }\n",
              "      const div = document.createElement('div');\n",
              "      const label = document.createElement('label');\n",
              "      label.textContent = `Downloading \"${filename}\": `;\n",
              "      div.appendChild(label);\n",
              "      const progress = document.createElement('progress');\n",
              "      progress.max = size;\n",
              "      div.appendChild(progress);\n",
              "      document.body.appendChild(div);\n",
              "\n",
              "      const buffers = [];\n",
              "      let downloaded = 0;\n",
              "\n",
              "      const channel = await google.colab.kernel.comms.open(id);\n",
              "      // Send a message to notify the kernel that we're ready.\n",
              "      channel.send({})\n",
              "\n",
              "      for await (const message of channel.messages) {\n",
              "        // Send a message to notify the kernel that we're ready.\n",
              "        channel.send({})\n",
              "        if (message.buffers) {\n",
              "          for (const buffer of message.buffers) {\n",
              "            buffers.push(buffer);\n",
              "            downloaded += buffer.byteLength;\n",
              "            progress.value = downloaded;\n",
              "          }\n",
              "        }\n",
              "      }\n",
              "      const blob = new Blob(buffers, {type: 'application/binary'});\n",
              "      const a = document.createElement('a');\n",
              "      a.href = window.URL.createObjectURL(blob);\n",
              "      a.download = filename;\n",
              "      div.appendChild(a);\n",
              "      a.click();\n",
              "      div.remove();\n",
              "    }\n",
              "  "
            ]
          },
          "metadata": {}
        },
        {
          "output_type": "display_data",
          "data": {
            "text/plain": [
              "<IPython.core.display.Javascript object>"
            ],
            "application/javascript": [
              "download(\"download_5b64d2b6-ee2f-41ff-bc83-19297bd1f041\", \"clustered_cuisines.csv\", 9616583)"
            ]
          },
          "metadata": {}
        }
      ]
    }
  ],
  "metadata": {
    "kernelspec": {
      "display_name": "Python 3 (ipykernel)",
      "language": "python",
      "name": "python3"
    },
    "language_info": {
      "codemirror_mode": {
        "name": "ipython",
        "version": 3
      },
      "file_extension": ".py",
      "mimetype": "text/x-python",
      "name": "python",
      "nbconvert_exporter": "python",
      "pygments_lexer": "ipython3",
      "version": "3.9.7"
    },
    "colab": {
      "name": "K-Means_Analysis_Similar_Names.ipynb",
      "provenance": [],
      "collapsed_sections": []
    }
  },
  "nbformat": 4,
  "nbformat_minor": 5
}